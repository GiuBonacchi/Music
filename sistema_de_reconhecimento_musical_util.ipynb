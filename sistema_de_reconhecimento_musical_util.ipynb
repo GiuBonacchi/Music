{
  "nbformat": 4,
  "nbformat_minor": 0,
  "metadata": {
    "colab": {
      "provenance": [],
      "authorship_tag": "ABX9TyNDeV5i3AvFZww/UkdfIT2V",
      "include_colab_link": true
    },
    "kernelspec": {
      "name": "python3",
      "display_name": "Python 3"
    },
    "language_info": {
      "name": "python"
    }
  },
  "cells": [
    {
      "cell_type": "markdown",
      "metadata": {
        "id": "view-in-github",
        "colab_type": "text"
      },
      "source": [
        "<a href=\"https://colab.research.google.com/github/GiuBonacchi/Music/blob/main/sistema_de_reconhecimento_musical_util.ipynb\" target=\"_parent\"><img src=\"https://colab.research.google.com/assets/colab-badge.svg\" alt=\"Open In Colab\"/></a>"
      ]
    },
    {
      "cell_type": "markdown",
      "source": [
        "Colocar dataframe com nome novos_dados.csv"
      ],
      "metadata": {
        "id": "PGxqNl34b__-"
      }
    },
    {
      "cell_type": "code",
      "execution_count": 85,
      "metadata": {
        "id": "t-UjHtndyAXW"
      },
      "outputs": [],
      "source": [
        "import pickle\n",
        "import pandas as pd\n",
        "import numpy as np\n",
        "from ast import literal_eval\n",
        "from sklearn.preprocessing import StandardScaler, MultiLabelBinarizer"
      ]
    },
    {
      "cell_type": "code",
      "source": [
        "with open('modelo_random_forest.pkl', 'rb') as f:\n",
        "    model = pickle.load(f)\n",
        "with open('scaler.pkl', 'rb') as f:\n",
        "    scaler = pickle.load(f)\n",
        "with open('colunas_usadas_no_treino.pkl', 'rb') as f:\n",
        "    colunas_treino = pickle.load(f)"
      ],
      "metadata": {
        "id": "QSmjvJKgyJr0"
      },
      "execution_count": 86,
      "outputs": []
    },
    {
      "cell_type": "code",
      "source": [
        "novos_dados = pd.read_csv('musicas_teste_com_erros.csv')\n",
        "print(novos_dados.head())"
      ],
      "metadata": {
        "colab": {
          "base_uri": "https://localhost:8080/"
        },
        "id": "U-ilrN4F4oKQ",
        "outputId": "2b0ca684-5f57-4c4d-81d4-66f5dc942c7d"
      },
      "execution_count": 87,
      "outputs": [
        {
          "output_type": "stream",
          "name": "stdout",
          "text": [
            "               music           artist duration_ms  music_popularity  \\\n",
            "0       Shape of You       Ed Sheeran      233712                85   \n",
            "1  Bohemian Rhapsody            Queen     -354000                90   \n",
            "2    Blinding Lights       The Weeknd      200500                88   \n",
            "3        Billie Jean  Michael Jackson         abc                92   \n",
            "4         Wonderwall            Oasis      259000                80   \n",
            "\n",
            "   artist_popularity     followers           genres  \n",
            "0               95.0      10000000              pop  \n",
            "1                NaN       5000000             rock  \n",
            "2               93.0       8000000              NaN  \n",
            "3               97.0  desconhecido  pop,wrong_genre  \n",
            "4               85.0       3000000       rock,indie  \n"
          ]
        }
      ]
    },
    {
      "cell_type": "code",
      "source": [
        "music = novos_dados['music']\n",
        "artist = novos_dados['artist']"
      ],
      "metadata": {
        "id": "_jwtD7e2dknV"
      },
      "execution_count": 88,
      "outputs": []
    },
    {
      "cell_type": "code",
      "source": [
        "dummies = novos_dados['genres'].str.get_dummies(sep=',')\n",
        "novos_dados = pd.concat([novos_dados.drop(columns=['genres']), dummies], axis=1)"
      ],
      "metadata": {
        "id": "NoLfbYJjARGy"
      },
      "execution_count": 89,
      "outputs": []
    },
    {
      "cell_type": "code",
      "source": [
        "colunas_que_faltam = [col for col in colunas_treino if col not in novos_dados.columns]\n",
        "df_falta = pd.DataFrame(0, index=novos_dados.index, columns=colunas_que_faltam)\n",
        "novos_dados = pd.concat([novos_dados, df_falta], axis=1)\n",
        "novos_dados = novos_dados[colunas_treino]"
      ],
      "metadata": {
        "id": "yosDLfgL_qmL"
      },
      "execution_count": 90,
      "outputs": []
    },
    {
      "cell_type": "code",
      "source": [
        "numeric_cols = ['duration_ms', 'music_popularity', 'artist_popularity', 'followers']"
      ],
      "metadata": {
        "id": "-YJV6wxQA_3G"
      },
      "execution_count": 91,
      "outputs": []
    },
    {
      "cell_type": "code",
      "source": [
        "from google.colab import drive\n",
        "drive.mount('/content/drive')"
      ],
      "metadata": {
        "id": "LeDn5HNSH385"
      },
      "execution_count": null,
      "outputs": []
    },
    {
      "cell_type": "code",
      "source": [
        "#converte colunas com valores invalidos pra nan\n",
        "novos_dados[numeric_cols] = novos_dados[numeric_cols].apply(pd.to_numeric, errors='coerce')"
      ],
      "metadata": {
        "id": "L_B0srtXFPeL"
      },
      "execution_count": 92,
      "outputs": []
    },
    {
      "cell_type": "code",
      "source": [
        "novos_dados[numeric_cols] = novos_dados[numeric_cols].fillna(0)"
      ],
      "metadata": {
        "id": "OFT9KRk_FlMa"
      },
      "execution_count": 93,
      "outputs": []
    },
    {
      "cell_type": "code",
      "source": [
        "novos_dados[numeric_cols] = scaler.transform(novos_dados[numeric_cols])"
      ],
      "metadata": {
        "id": "v7wPmz0aFL37"
      },
      "execution_count": 94,
      "outputs": []
    },
    {
      "cell_type": "code",
      "source": [
        "previsoes = model.predict(novos_dados)"
      ],
      "metadata": {
        "id": "fRE6tmDvBLQB"
      },
      "execution_count": 95,
      "outputs": []
    },
    {
      "cell_type": "code",
      "source": [
        "print(previsoes)"
      ],
      "metadata": {
        "id": "IMvAS_a5GiXt",
        "outputId": "b1f5cc58-05d4-4b12-f4f9-3c72df75cf8d",
        "colab": {
          "base_uri": "https://localhost:8080/"
        }
      },
      "execution_count": 96,
      "outputs": [
        {
          "output_type": "stream",
          "name": "stdout",
          "text": [
            "[1 1 1 1 1]\n"
          ]
        }
      ]
    },
    {
      "cell_type": "code",
      "source": [
        "resultado = pd.DataFrame({\n",
        "    'music': music,\n",
        "    'artist': artist,\n",
        "    'liked_prediction': previsoes\n",
        "})"
      ],
      "metadata": {
        "id": "iOUC953aBNcF"
      },
      "execution_count": 97,
      "outputs": []
    },
    {
      "cell_type": "code",
      "source": [
        "print(resultado.head())"
      ],
      "metadata": {
        "id": "VETGOu3nBb79",
        "outputId": "5d75719e-cd6c-49ce-d346-b82d2b387bb5",
        "colab": {
          "base_uri": "https://localhost:8080/"
        }
      },
      "execution_count": 98,
      "outputs": [
        {
          "output_type": "stream",
          "name": "stdout",
          "text": [
            "               music           artist  liked_prediction\n",
            "0       Shape of You       Ed Sheeran                 1\n",
            "1  Bohemian Rhapsody            Queen                 1\n",
            "2    Blinding Lights       The Weeknd                 1\n",
            "3        Billie Jean  Michael Jackson                 1\n",
            "4         Wonderwall            Oasis                 1\n"
          ]
        }
      ]
    },
    {
      "cell_type": "code",
      "source": [],
      "metadata": {
        "id": "Alt4g0FHBlMF"
      },
      "execution_count": 98,
      "outputs": []
    }
  ]
}