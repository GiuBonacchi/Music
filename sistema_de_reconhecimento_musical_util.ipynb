{
  "nbformat": 4,
  "nbformat_minor": 0,
  "metadata": {
    "colab": {
      "provenance": [],
      "authorship_tag": "ABX9TyPj8iL9ylhlFW2Crw4Ivjtv",
      "include_colab_link": true
    },
    "kernelspec": {
      "name": "python3",
      "display_name": "Python 3"
    },
    "language_info": {
      "name": "python"
    }
  },
  "cells": [
    {
      "cell_type": "markdown",
      "metadata": {
        "id": "view-in-github",
        "colab_type": "text"
      },
      "source": [
        "<a href=\"https://colab.research.google.com/github/GiuBonacchi/Music/blob/main/sistema_de_reconhecimento_musical_util.ipynb\" target=\"_parent\"><img src=\"https://colab.research.google.com/assets/colab-badge.svg\" alt=\"Open In Colab\"/></a>"
      ]
    },
    {
      "cell_type": "markdown",
      "source": [
        "Colocar dataframe com nome novos_dados.csv"
      ],
      "metadata": {
        "id": "PGxqNl34b__-"
      }
    },
    {
      "cell_type": "code",
      "execution_count": 228,
      "metadata": {
        "id": "t-UjHtndyAXW"
      },
      "outputs": [],
      "source": [
        "import pickle\n",
        "import pandas as pd\n",
        "import numpy as np\n",
        "from ast import literal_eval\n",
        "from sklearn.preprocessing import StandardScaler"
      ]
    },
    {
      "cell_type": "code",
      "source": [
        "with open('modelo_random_forest.pkl', 'rb') as f:\n",
        "    model = pickle.load(f)\n",
        "with open('scaler.pkl', 'rb') as f:\n",
        "    scaler = pickle.load(f)\n",
        "with open('colunas_usadas_no_treino.pkl', 'rb') as f:\n",
        "    colunas_treino = pickle.load(f)"
      ],
      "metadata": {
        "id": "QSmjvJKgyJr0"
      },
      "execution_count": 229,
      "outputs": []
    },
    {
      "cell_type": "code",
      "source": [
        "novos_dados = pd.read_csv('novos_dados.csv')\n",
        "print(novos_dados.head())"
      ],
      "metadata": {
        "colab": {
          "base_uri": "https://localhost:8080/"
        },
        "id": "U-ilrN4F4oKQ",
        "outputId": "703a95dd-223b-4ad2-e244-c2ea77940bae"
      },
      "execution_count": 230,
      "outputs": [
        {
          "output_type": "stream",
          "name": "stdout",
          "text": [
            "    music    artist  duration_ms  music_popularity genres  artist_popularity  \\\n",
            "0  Song 1  Artist 1       168772                75   Jazz                 50   \n",
            "1  Song 2  Artist 2       229077                14   Jazz                 36   \n",
            "2  Song 3  Artist 3       205843                 6   Jazz                 77   \n",
            "3  Song 4  Artist 4       290774                37   Rock                 89   \n",
            "4  Song 5  Artist 5       249129                 0   Jazz                 28   \n",
            "\n",
            "   followers  liked  \n",
            "0     459149  False  \n",
            "1      54654   True  \n",
            "2     517790  False  \n",
            "3     308106   True  \n",
            "4     895181   True  \n"
          ]
        }
      ]
    },
    {
      "cell_type": "code",
      "source": [
        "music = novos_dados['music']\n",
        "artist = novos_dados['artist']"
      ],
      "metadata": {
        "id": "_jwtD7e2dknV"
      },
      "execution_count": 231,
      "outputs": []
    },
    {
      "cell_type": "code",
      "source": [
        "dummies = novos_dados['genres'].str.get_dummies(sep=',')\n",
        "novos_dados = pd.concat([novos_dados.drop(columns=['genres']), dummies], axis=1)"
      ],
      "metadata": {
        "id": "NoLfbYJjARGy"
      },
      "execution_count": 232,
      "outputs": []
    },
    {
      "cell_type": "code",
      "source": [
        "#verifica quais 'colunas' faltam nos dados, cria essas colunas com 0, adiciona elas nos dados e garante a ordem certa\n",
        "colunas_que_faltam = [col for col in colunas_treino if col not in novos_dados.columns]\n",
        "df_falta = pd.DataFrame(0, index=novos_dados.index, columns=colunas_que_faltam)\n",
        "novos_dados = pd.concat([novos_dados, df_falta], axis=1)\n",
        "novos_dados = novos_dados[colunas_treino]"
      ],
      "metadata": {
        "id": "yosDLfgL_qmL"
      },
      "execution_count": 233,
      "outputs": []
    },
    {
      "cell_type": "code",
      "source": [
        "numeric_cols = ['duration_ms', 'music_popularity', 'artist_popularity', 'followers']"
      ],
      "metadata": {
        "id": "-YJV6wxQA_3G"
      },
      "execution_count": 234,
      "outputs": []
    },
    {
      "cell_type": "code",
      "source": [
        "#converte colunas com valores invalidos pra nan\n",
        "novos_dados[numeric_cols] = novos_dados[numeric_cols].apply(pd.to_numeric, errors='coerce')"
      ],
      "metadata": {
        "id": "L_B0srtXFPeL"
      },
      "execution_count": 235,
      "outputs": []
    },
    {
      "cell_type": "code",
      "source": [
        "novos_dados[numeric_cols] = novos_dados[numeric_cols].fillna(0)"
      ],
      "metadata": {
        "id": "OFT9KRk_FlMa"
      },
      "execution_count": 236,
      "outputs": []
    },
    {
      "cell_type": "code",
      "source": [
        "novos_dados[numeric_cols] = scaler.transform(novos_dados[numeric_cols])"
      ],
      "metadata": {
        "id": "v7wPmz0aFL37"
      },
      "execution_count": 237,
      "outputs": []
    },
    {
      "cell_type": "code",
      "source": [
        "previsoes = model.predict(novos_dados)"
      ],
      "metadata": {
        "id": "fRE6tmDvBLQB"
      },
      "execution_count": 238,
      "outputs": []
    },
    {
      "cell_type": "code",
      "source": [
        "print(previsoes)"
      ],
      "metadata": {
        "id": "IMvAS_a5GiXt",
        "outputId": "da766e00-8538-4a48-d007-aab22e85eae6",
        "colab": {
          "base_uri": "https://localhost:8080/"
        }
      },
      "execution_count": 239,
      "outputs": [
        {
          "output_type": "stream",
          "name": "stdout",
          "text": [
            "[1 0 0 0 0 1 0 0 0 0 0 1 0 1 1 0 0 1 0 0 1 1 0 1 0 0 0 0 1 0 0 0 1 0 1 0 1\n",
            " 0 1 0 1 0 1 0 0 0 0 1 0 1]\n"
          ]
        }
      ]
    },
    {
      "cell_type": "code",
      "source": [
        "#É pra criar um dataframe pra organizar de forma mais legível as previsões\n",
        "resultado = pd.DataFrame({\n",
        "    'music': music,\n",
        "    'artist': artist,\n",
        "    'liked_prediction': previsoes\n",
        "})"
      ],
      "metadata": {
        "id": "iOUC953aBNcF"
      },
      "execution_count": 240,
      "outputs": []
    },
    {
      "cell_type": "code",
      "source": [
        "print(resultado.head())"
      ],
      "metadata": {
        "id": "VETGOu3nBb79",
        "outputId": "6abaa2e1-b35a-47d7-a15e-45fe7c70233e",
        "colab": {
          "base_uri": "https://localhost:8080/"
        }
      },
      "execution_count": 241,
      "outputs": [
        {
          "output_type": "stream",
          "name": "stdout",
          "text": [
            "    music    artist  liked_prediction\n",
            "0  Song 1  Artist 1                 1\n",
            "1  Song 2  Artist 2                 0\n",
            "2  Song 3  Artist 3                 0\n",
            "3  Song 4  Artist 4                 0\n",
            "4  Song 5  Artist 5                 0\n"
          ]
        }
      ]
    },
    {
      "cell_type": "code",
      "source": [
        "resultado.to_csv('previsoes.csv', index=False, encoding= 'utf-8-sig')\n",
        "print(\"previsões salvas em 'previsoes.csv' com sucesso!\")"
      ],
      "metadata": {
        "id": "Alt4g0FHBlMF",
        "colab": {
          "base_uri": "https://localhost:8080/"
        },
        "outputId": "fd753eb1-ab9c-4171-d69c-9248e61d9fac"
      },
      "execution_count": 242,
      "outputs": [
        {
          "output_type": "stream",
          "name": "stdout",
          "text": [
            "previsões salvas em 'previsoes.csv' com sucesso!\n"
          ]
        }
      ]
    },
    {
      "cell_type": "code",
      "source": [],
      "metadata": {
        "id": "942uo-QoQE90"
      },
      "execution_count": 242,
      "outputs": []
    }
  ]
}