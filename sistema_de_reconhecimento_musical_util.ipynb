{
  "nbformat": 4,
  "nbformat_minor": 0,
  "metadata": {
    "colab": {
      "provenance": [],
      "authorship_tag": "ABX9TyO8dMFJigtM1hSMquBj4S6L",
      "include_colab_link": true
    },
    "kernelspec": {
      "name": "python3",
      "display_name": "Python 3"
    },
    "language_info": {
      "name": "python"
    }
  },
  "cells": [
    {
      "cell_type": "markdown",
      "metadata": {
        "id": "view-in-github",
        "colab_type": "text"
      },
      "source": [
        "<a href=\"https://colab.research.google.com/github/GiuBonacchi/Music/blob/main/sistema_de_reconhecimento_musical_util.ipynb\" target=\"_parent\"><img src=\"https://colab.research.google.com/assets/colab-badge.svg\" alt=\"Open In Colab\"/></a>"
      ]
    },
    {
      "cell_type": "markdown",
      "source": [
        "Colocar dataframe com nome novos_dados.csv"
      ],
      "metadata": {
        "id": "PGxqNl34b__-"
      }
    },
    {
      "cell_type": "code",
      "execution_count": 213,
      "metadata": {
        "id": "t-UjHtndyAXW"
      },
      "outputs": [],
      "source": [
        "import pickle\n",
        "import pandas as pd\n",
        "import numpy as np\n",
        "from ast import literal_eval\n",
        "from sklearn.preprocessing import StandardScaler"
      ]
    },
    {
      "cell_type": "code",
      "source": [
        "with open('modelo_random_forest.pkl', 'rb') as f:\n",
        "    model = pickle.load(f)\n",
        "with open('scaler.pkl', 'rb') as f:\n",
        "    scaler = pickle.load(f)\n",
        "with open('colunas_usadas_no_treino.pkl', 'rb') as f:\n",
        "    colunas_treino = pickle.load(f)"
      ],
      "metadata": {
        "id": "QSmjvJKgyJr0"
      },
      "execution_count": 214,
      "outputs": []
    },
    {
      "cell_type": "code",
      "source": [
        "novos_dados = pd.read_csv('novos_dados.csv')\n",
        "print(novos_dados.head())"
      ],
      "metadata": {
        "colab": {
          "base_uri": "https://localhost:8080/"
        },
        "id": "U-ilrN4F4oKQ",
        "outputId": "251a925a-d38e-4107-9903-358d4a22ae65"
      },
      "execution_count": 215,
      "outputs": [
        {
          "output_type": "stream",
          "name": "stdout",
          "text": [
            "    music    artist  duration_ms  music_popularity genres  artist_popularity  \\\n",
            "0  Song 1  Artist 1       168772                75   Jazz                 50   \n",
            "1  Song 2  Artist 2       229077                14   Jazz                 36   \n",
            "2  Song 3  Artist 3       205843                 6   Jazz                 77   \n",
            "3  Song 4  Artist 4       290774                37   Rock                 89   \n",
            "4  Song 5  Artist 5       249129                 0   Jazz                 28   \n",
            "\n",
            "   followers  liked  \n",
            "0     459149  False  \n",
            "1      54654   True  \n",
            "2     517790  False  \n",
            "3     308106   True  \n",
            "4     895181   True  \n"
          ]
        }
      ]
    },
    {
      "cell_type": "code",
      "source": [
        "music = novos_dados['music']\n",
        "artist = novos_dados['artist']"
      ],
      "metadata": {
        "id": "_jwtD7e2dknV"
      },
      "execution_count": 216,
      "outputs": []
    },
    {
      "cell_type": "code",
      "source": [
        "dummies = novos_dados['genres'].str.get_dummies(sep=',')\n",
        "novos_dados = pd.concat([novos_dados.drop(columns=['genres']), dummies], axis=1)"
      ],
      "metadata": {
        "id": "NoLfbYJjARGy"
      },
      "execution_count": 217,
      "outputs": []
    },
    {
      "cell_type": "code",
      "source": [
        "colunas_que_faltam = [col for col in colunas_treino if col not in novos_dados.columns]\n",
        "df_falta = pd.DataFrame(0, index=novos_dados.index, columns=colunas_que_faltam)\n",
        "novos_dados = pd.concat([novos_dados, df_falta], axis=1)\n",
        "novos_dados = novos_dados[colunas_treino]"
      ],
      "metadata": {
        "id": "yosDLfgL_qmL"
      },
      "execution_count": 218,
      "outputs": []
    },
    {
      "cell_type": "code",
      "source": [
        "numeric_cols = ['duration_ms', 'music_popularity', 'artist_popularity', 'followers']"
      ],
      "metadata": {
        "id": "-YJV6wxQA_3G"
      },
      "execution_count": 219,
      "outputs": []
    },
    {
      "cell_type": "code",
      "source": [
        "#converte colunas com valores invalidos pra nan\n",
        "novos_dados[numeric_cols] = novos_dados[numeric_cols].apply(pd.to_numeric, errors='coerce')"
      ],
      "metadata": {
        "id": "L_B0srtXFPeL"
      },
      "execution_count": 220,
      "outputs": []
    },
    {
      "cell_type": "code",
      "source": [
        "novos_dados[numeric_cols] = novos_dados[numeric_cols].fillna(0)"
      ],
      "metadata": {
        "id": "OFT9KRk_FlMa"
      },
      "execution_count": 221,
      "outputs": []
    },
    {
      "cell_type": "code",
      "source": [
        "novos_dados[numeric_cols] = scaler.transform(novos_dados[numeric_cols])"
      ],
      "metadata": {
        "id": "v7wPmz0aFL37"
      },
      "execution_count": 222,
      "outputs": []
    },
    {
      "cell_type": "code",
      "source": [
        "previsoes = model.predict(novos_dados)"
      ],
      "metadata": {
        "id": "fRE6tmDvBLQB"
      },
      "execution_count": 223,
      "outputs": []
    },
    {
      "cell_type": "code",
      "source": [
        "print(previsoes)"
      ],
      "metadata": {
        "id": "IMvAS_a5GiXt",
        "outputId": "4cd8160e-58db-4dd3-d93f-366020f3e5b0",
        "colab": {
          "base_uri": "https://localhost:8080/"
        }
      },
      "execution_count": 224,
      "outputs": [
        {
          "output_type": "stream",
          "name": "stdout",
          "text": [
            "[1 0 0 0 0 1 0 0 0 0 0 1 0 1 1 0 0 1 0 0 1 1 0 1 0 0 0 0 1 0 0 0 1 0 1 0 1\n",
            " 0 1 0 1 0 1 0 0 0 0 1 0 1]\n"
          ]
        }
      ]
    },
    {
      "cell_type": "code",
      "source": [
        "resultado = pd.DataFrame({\n",
        "    'music': music,\n",
        "    'artist': artist,\n",
        "    'liked_prediction': previsoes\n",
        "})"
      ],
      "metadata": {
        "id": "iOUC953aBNcF"
      },
      "execution_count": 225,
      "outputs": []
    },
    {
      "cell_type": "code",
      "source": [
        "print(resultado.head())"
      ],
      "metadata": {
        "id": "VETGOu3nBb79",
        "outputId": "0e49e798-0cab-4739-bd22-4c6b49934255",
        "colab": {
          "base_uri": "https://localhost:8080/"
        }
      },
      "execution_count": 226,
      "outputs": [
        {
          "output_type": "stream",
          "name": "stdout",
          "text": [
            "    music    artist  liked_prediction\n",
            "0  Song 1  Artist 1                 1\n",
            "1  Song 2  Artist 2                 0\n",
            "2  Song 3  Artist 3                 0\n",
            "3  Song 4  Artist 4                 0\n",
            "4  Song 5  Artist 5                 0\n"
          ]
        }
      ]
    },
    {
      "cell_type": "code",
      "source": [
        "resultado.to_csv('previsoes.csv', index=False, encoding= 'utf-8-sig')\n",
        "print(\"previsões salvas em 'previsoes.csv' com sucesso!\")"
      ],
      "metadata": {
        "id": "Alt4g0FHBlMF",
        "outputId": "e5819ae9-5891-4119-a175-434747843385",
        "colab": {
          "base_uri": "https://localhost:8080/"
        }
      },
      "execution_count": 227,
      "outputs": [
        {
          "output_type": "stream",
          "name": "stdout",
          "text": [
            "previsões salvas em 'previsoes.csv' com sucesso!\n"
          ]
        }
      ]
    },
    {
      "cell_type": "code",
      "source": [],
      "metadata": {
        "id": "942uo-QoQE90"
      },
      "execution_count": 227,
      "outputs": []
    }
  ]
}