{
  "nbformat": 4,
  "nbformat_minor": 0,
  "metadata": {
    "colab": {
      "provenance": [],
      "authorship_tag": "ABX9TyNkQKHAyUT0nmBcBCQQDzsR",
      "include_colab_link": true
    },
    "kernelspec": {
      "name": "python3",
      "display_name": "Python 3"
    },
    "language_info": {
      "name": "python"
    }
  },
  "cells": [
    {
      "cell_type": "markdown",
      "metadata": {
        "id": "view-in-github",
        "colab_type": "text"
      },
      "source": [
        "<a href=\"https://colab.research.google.com/github/GiuBonacchi/Music/blob/main/sistema_de_reconhecimento_musical_util.ipynb\" target=\"_parent\"><img src=\"https://colab.research.google.com/assets/colab-badge.svg\" alt=\"Open In Colab\"/></a>"
      ]
    },
    {
      "cell_type": "markdown",
      "source": [
        "Colocar dataframe com nome novos_dados.csv"
      ],
      "metadata": {
        "id": "PGxqNl34b__-"
      }
    },
    {
      "cell_type": "code",
      "execution_count": 50,
      "metadata": {
        "id": "t-UjHtndyAXW"
      },
      "outputs": [],
      "source": [
        "import pickle\n",
        "import pandas as pd\n",
        "import numpy as np"
      ]
    },
    {
      "cell_type": "code",
      "source": [
        "with open('modelo_random_forest.pkl', 'rb') as f:\n",
        "    model = pickle.load(f)\n",
        "with open('scaler.pkl', 'rb') as f:\n",
        "    scaler = pickle.load(f)\n",
        "with open('colunas_usadas_no_treino.pkl', 'rb') as f:\n",
        "    colunas_treino = pickle.load(f)\n",
        "print('carregados com sucesso')"
      ],
      "metadata": {
        "colab": {
          "base_uri": "https://localhost:8080/"
        },
        "id": "QSmjvJKgyJr0",
        "outputId": "87ef6479-8e11-41eb-95fe-8b8b438bbf0c"
      },
      "execution_count": 51,
      "outputs": [
        {
          "output_type": "stream",
          "name": "stdout",
          "text": [
            "carregados com sucesso\n"
          ]
        }
      ]
    },
    {
      "cell_type": "code",
      "source": [
        "numeric_cols = ['duration_ms', 'music_popularity', 'artist_popularity', 'followers']"
      ],
      "metadata": {
        "id": "MABH4SvZ78fq"
      },
      "execution_count": 52,
      "outputs": []
    },
    {
      "cell_type": "code",
      "source": [
        "novos_dados = pd.read_csv('novos_dados.csv')"
      ],
      "metadata": {
        "id": "139JmO0ByoRf"
      },
      "execution_count": 53,
      "outputs": []
    },
    {
      "cell_type": "code",
      "source": [
        "nome_musicas = novos_dados['music'].copy()"
      ],
      "metadata": {
        "id": "0joXFm4PYMLT"
      },
      "execution_count": 54,
      "outputs": []
    },
    {
      "cell_type": "code",
      "source": [
        "# para eliminar colunas extras e colunas com dados faltantes\n",
        "for col in colunas_treino:\n",
        "    if col not in novos_dados.columns:\n",
        "        novos_dados[col] = 0"
      ],
      "metadata": {
        "id": "R0Yl-rm167AP"
      },
      "execution_count": 55,
      "outputs": []
    },
    {
      "cell_type": "code",
      "source": [
        "novos_dados = novos_dados[colunas_treino]"
      ],
      "metadata": {
        "id": "dj0Ma6fJzK58"
      },
      "execution_count": 56,
      "outputs": []
    },
    {
      "cell_type": "code",
      "source": [
        "novos_dados['music'] = nome_musicas.values"
      ],
      "metadata": {
        "id": "LzZrirFlYtv0"
      },
      "execution_count": 57,
      "outputs": []
    },
    {
      "cell_type": "code",
      "source": [
        "novos_dados[numeric_cols] = scaler.transform(novos_dados[numeric_cols])"
      ],
      "metadata": {
        "id": "QkfdxYHrzVYR"
      },
      "execution_count": 58,
      "outputs": []
    },
    {
      "cell_type": "code",
      "source": [
        "#criado pq nas colunas de treino não usei a coluna music\n",
        "novos_dados_a = novos_dados[colunas_treino]"
      ],
      "metadata": {
        "id": "HdtrH0eYaqC2"
      },
      "execution_count": 59,
      "outputs": []
    },
    {
      "cell_type": "code",
      "source": [
        "previsao = model.predict(novos_dados_a)"
      ],
      "metadata": {
        "id": "5_yxBKwK7t2W"
      },
      "execution_count": 60,
      "outputs": []
    },
    {
      "cell_type": "code",
      "source": [
        "print(previsao)"
      ],
      "metadata": {
        "colab": {
          "base_uri": "https://localhost:8080/"
        },
        "id": "TQwFcL9R86Uy",
        "outputId": "00b2c752-996b-4ef8-d245-28c4d7b2d014"
      },
      "execution_count": 61,
      "outputs": [
        {
          "output_type": "stream",
          "name": "stdout",
          "text": [
            "[1 0 0 0 0 1 0 0 0 0 0 1 0 1 1 0 0 1 0 0 1 1 0 1 0 0 0 0 1 0 0 0 1 0 1 0 1\n",
            " 0 1 0 1 0 1 0 0 0 0 1 0 1]\n"
          ]
        }
      ]
    },
    {
      "cell_type": "code",
      "source": [
        "print(np.sum(previsao))"
      ],
      "metadata": {
        "colab": {
          "base_uri": "https://localhost:8080/"
        },
        "id": "Pi_4334Z8-ev",
        "outputId": "0eb77f3f-3ad5-4d12-da58-b725a1551d13"
      },
      "execution_count": 62,
      "outputs": [
        {
          "output_type": "stream",
          "name": "stdout",
          "text": [
            "18\n"
          ]
        }
      ]
    },
    {
      "cell_type": "code",
      "source": [
        "novos_dados['liked_previsao'] = previsao\n",
        "print(novos_dados[['music','liked_previsao']].head(20))"
      ],
      "metadata": {
        "colab": {
          "base_uri": "https://localhost:8080/"
        },
        "id": "JQCY1hrj9YJM",
        "outputId": "bdb95964-1c64-4636-fa15-df9d7628168b"
      },
      "execution_count": 63,
      "outputs": [
        {
          "output_type": "stream",
          "name": "stdout",
          "text": [
            "      music  liked_previsao\n",
            "0    Song 1               1\n",
            "1    Song 2               0\n",
            "2    Song 3               0\n",
            "3    Song 4               0\n",
            "4    Song 5               0\n",
            "5    Song 6               1\n",
            "6    Song 7               0\n",
            "7    Song 8               0\n",
            "8    Song 9               0\n",
            "9   Song 10               0\n",
            "10  Song 11               0\n",
            "11  Song 12               1\n",
            "12  Song 13               0\n",
            "13  Song 14               1\n",
            "14  Song 15               1\n",
            "15  Song 16               0\n",
            "16  Song 17               0\n",
            "17  Song 18               1\n",
            "18  Song 19               0\n",
            "19  Song 20               0\n"
          ]
        }
      ]
    },
    {
      "cell_type": "code",
      "source": [],
      "metadata": {
        "id": "I-2KqE3d9kEj"
      },
      "execution_count": 63,
      "outputs": []
    }
  ]
}