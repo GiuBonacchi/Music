{
  "cells": [
    {
      "cell_type": "markdown",
      "metadata": {
        "id": "view-in-github",
        "colab_type": "text"
      },
      "source": [
        "<a href=\"https://colab.research.google.com/github/GiuBonacchi/Music/blob/main/sistema_de_reconhecimento_musical.ipynb\" target=\"_parent\"><img src=\"https://colab.research.google.com/assets/colab-badge.svg\" alt=\"Open In Colab\"/></a>"
      ]
    },
    {
      "cell_type": "code",
      "source": [
        "import pandas as pd\n",
        "import numpy as np\n",
        "import matplotlib.pyplot as plt\n",
        "import seaborn as sns\n",
        "from ast import literal_eval\n",
        "from sklearn.preprocessing import StandardScaler\n",
        "from sklearn.model_selection import train_test_split"
      ],
      "metadata": {
        "id": "nvKV8aBUrEPZ"
      },
      "execution_count": 185,
      "outputs": []
    },
    {
      "cell_type": "code",
      "source": [
        "df = pd.read_csv('dataframe_musicas.csv')"
      ],
      "metadata": {
        "id": "m4nWZpYhx7WO"
      },
      "execution_count": 186,
      "outputs": []
    },
    {
      "cell_type": "markdown",
      "source": [
        "Visualização de dados\n",
        "\n",
        "\n"
      ],
      "metadata": {
        "id": "BZ0l0h6Uk94o"
      }
    },
    {
      "cell_type": "code",
      "source": [
        "print(df.head()) # 5 primeiros"
      ],
      "metadata": {
        "id": "KBTmR76lyIO5",
        "colab": {
          "base_uri": "https://localhost:8080/"
        },
        "outputId": "a6abdd30-364e-4be2-bddd-d33d71f25481"
      },
      "execution_count": 187,
      "outputs": [
        {
          "output_type": "stream",
          "name": "stdout",
          "text": [
            "                music         artist  duration_ms  music_popularity  \\\n",
            "0                Hurt       NewJeans       177946                74   \n",
            "1             Gravity     John Mayer       245826                76   \n",
            "2  If I Ain't Got You    Alicia Keys       228706                85   \n",
            "3                Love   Keyshia Cole       255333                85   \n",
            "4                Home  Michael Bublé       225906                75   \n",
            "\n",
            "                  genres  artist_popularity  followers  liked  \n",
            "0              ['k-pop']                 80   10899590      1  \n",
            "1  ['singer-songwriter']                 79    6181000      1  \n",
            "2    ['r&b', 'neo soul']                 81   12650472      1  \n",
            "3                ['r&b']                 73    4224826      1  \n",
            "4          ['christmas']                 75    6873401      1  \n"
          ]
        }
      ]
    },
    {
      "cell_type": "code",
      "source": [
        "print(df.shape) # linhas / colunas"
      ],
      "metadata": {
        "colab": {
          "base_uri": "https://localhost:8080/"
        },
        "id": "Bj0BQ56EyNTD",
        "outputId": "4cf1d4de-300a-43ba-f53f-4a3adf46520a"
      },
      "execution_count": 188,
      "outputs": [
        {
          "output_type": "stream",
          "name": "stdout",
          "text": [
            "(143, 8)\n"
          ]
        }
      ]
    },
    {
      "cell_type": "code",
      "source": [
        "print(df.dtypes) # tipos"
      ],
      "metadata": {
        "id": "UfXZGAl2yXpk",
        "colab": {
          "base_uri": "https://localhost:8080/"
        },
        "outputId": "ae26ca57-2978-4032-ee9c-7772aeff08e0"
      },
      "execution_count": 189,
      "outputs": [
        {
          "output_type": "stream",
          "name": "stdout",
          "text": [
            "music                object\n",
            "artist               object\n",
            "duration_ms           int64\n",
            "music_popularity      int64\n",
            "genres               object\n",
            "artist_popularity     int64\n",
            "followers             int64\n",
            "liked                 int64\n",
            "dtype: object\n"
          ]
        }
      ]
    },
    {
      "cell_type": "code",
      "source": [
        "print(df.isnull().sum()) # quantidade de nulos"
      ],
      "metadata": {
        "id": "lnkZpIEWyfpp",
        "colab": {
          "base_uri": "https://localhost:8080/"
        },
        "collapsed": true,
        "outputId": "a745b19b-40cb-4e82-d4f4-33186c0885eb"
      },
      "execution_count": 190,
      "outputs": [
        {
          "output_type": "stream",
          "name": "stdout",
          "text": [
            "music                0\n",
            "artist               0\n",
            "duration_ms          0\n",
            "music_popularity     0\n",
            "genres               0\n",
            "artist_popularity    0\n",
            "followers            0\n",
            "liked                0\n",
            "dtype: int64\n"
          ]
        }
      ]
    },
    {
      "cell_type": "code",
      "source": [
        "print(df['liked'].value_counts()) # quantidade de likes"
      ],
      "metadata": {
        "colab": {
          "base_uri": "https://localhost:8080/"
        },
        "id": "dUF3yAXgzDsb",
        "outputId": "5303d20f-a5e1-4f8e-b1cb-a7f846ee67b2"
      },
      "execution_count": 191,
      "outputs": [
        {
          "output_type": "stream",
          "name": "stdout",
          "text": [
            "liked\n",
            "0    91\n",
            "1    52\n",
            "Name: count, dtype: int64\n"
          ]
        }
      ]
    },
    {
      "cell_type": "code",
      "source": [
        "sns.countplot(x='liked', data=df)\n",
        "plt.title('Distribuição de Likes')\n",
        "plt.show()"
      ],
      "metadata": {
        "id": "EC1OUJz0zXTx",
        "colab": {
          "base_uri": "https://localhost:8080/",
          "height": 472
        },
        "outputId": "b5c0f4c8-44c3-491d-8a31-0571e70f6604"
      },
      "execution_count": 192,
      "outputs": [
        {
          "output_type": "display_data",
          "data": {
            "text/plain": [
              "<Figure size 640x480 with 1 Axes>"
            ],
            "image/png": "[encoded data removed]"
          },
          "metadata": {}
        }
      ]
    },
    {
      "cell_type": "code",
      "source": [
        "print(df.describe())"
      ],
      "metadata": {
        "id": "vp3-rVAZzyf1",
        "colab": {
          "base_uri": "https://localhost:8080/"
        },
        "outputId": "c402f74d-a21e-400f-d022-6d7cc014a676"
      },
      "execution_count": 193,
      "outputs": [
        {
          "output_type": "stream",
          "name": "stdout",
          "text": [
            "         duration_ms  music_popularity  artist_popularity     followers  \\\n",
            "count     143.000000        143.000000         143.000000  1.430000e+02   \n",
            "mean   243928.678322         49.678322          75.111888  1.236618e+07   \n",
            "std     64242.253316         33.992667          10.023989  1.963722e+07   \n",
            "min    121813.000000          0.000000          38.000000  4.414200e+04   \n",
            "25%    202702.500000          3.500000          69.500000  3.011478e+06   \n",
            "50%    233973.000000         69.000000          76.000000  5.869309e+06   \n",
            "75%    269673.000000         78.000000          81.500000  1.268315e+07   \n",
            "max    544925.000000         92.000000          93.000000  1.210001e+08   \n",
            "\n",
            "            liked  \n",
            "count  143.000000  \n",
            "mean     0.363636  \n",
            "std      0.482737  \n",
            "min      0.000000  \n",
            "25%      0.000000  \n",
            "50%      0.000000  \n",
            "75%      1.000000  \n",
            "max      1.000000  \n"
          ]
        }
      ]
    },
    {
      "cell_type": "markdown",
      "source": [
        "count: Mostra quantos valores existem em cada coluna.(143 musicas listadas)\n",
        "\n",
        "mean: É a média dos valores.\n",
        "\n",
        "std: É o desvio padrão, que nos diz o quanto os valores variam em relação à média.\n",
        "\n",
        "min: É o menor valor encontrado na coluna.\n",
        "\n",
        "25%: É o primeiro quartil, que mostra o valor abaixo do qual 25% dos dados estão.\n",
        "\n",
        "50%: É a mediana, o valor central.\n",
        "\n",
        "75%: É o terceiro quartil, que mostra o valor abaixo do qual 75% dos dados estão.\n",
        "\n",
        "max: É o maior valor encontrado na coluna."
      ],
      "metadata": {
        "id": "ReMA9z5JmcyQ"
      }
    },
    {
      "cell_type": "code",
      "source": [
        "#mostra o quão importante é cada uma das colunas em relação\n",
        "plt.figure(figsize=(10, 6))\n",
        "sns.heatmap(df.select_dtypes(include=np.number).corr(), annot= True, cmap='coolwarm')\n",
        "plt.title('Matriz de Correlação')\n",
        "plt.show()"
      ],
      "metadata": {
        "id": "i7O6cBjw0zLj",
        "colab": {
          "base_uri": "https://localhost:8080/",
          "height": 545
        },
        "outputId": "ce9b8276-8b1b-4d3b-d7ad-f29a4eb453a7"
      },
      "execution_count": 194,
      "outputs": [
        {
          "output_type": "display_data",
          "data": {
            "text/plain": [
              "<Figure size 1000x600 with 2 Axes>"
            ],
            "image/png": "[encoded data removed]"
          },
          "metadata": {}
        }
      ]
    },
    {
      "cell_type": "code",
      "source": [
        "print(df['genres'].unique())"
      ],
      "metadata": {
        "colab": {
          "base_uri": "https://localhost:8080/"
        },
        "collapsed": true,
        "id": "GPQPRtAR29rD",
        "outputId": "bd0869e1-bb31-43cd-eff6-7e3dfe9f3dda"
      },
      "execution_count": 195,
      "outputs": [
        {
          "output_type": "stream",
          "name": "stdout",
          "text": [
            "[\"['k-pop']\" \"['singer-songwriter']\" \"['r&b', 'neo soul']\" \"['r&b']\"\n",
            " \"['christmas']\" \"['britpop', 'madchester']\" \"['soft pop']\"\n",
            " \"['retro soul']\" \"['country']\" \"['acid jazz']\" \"['surf rock']\"\n",
            " \"['soft pop', 'acoustic pop']\"\n",
            " \"['modern blues', 'blues rock', 'blues', 'soul blues']\" \"['pop']\"\n",
            " \"['indie folk']\" \"['classic rock', 'yacht rock', 'soft rock']\"\n",
            " \"['soft pop', 'pop']\" \"['motown', 'classic soul', 'soul']\"\n",
            " \"['opm', 'pinoy indie', 'harana', 'p-pop', 'kundiman']\" \"['indie']\"\n",
            " \"['pop punk', 'emo']\" \"['bedroom pop']\" \"['disco']\"\n",
            " \"['new wave', 'synthpop']\" \"['reggae', 'mpb', 'roots reggae']\"\n",
            " \"['yacht rock']\" \"['classic rock', 'rock', 'glam rock']\"\n",
            " \"['garage rock', 'blues rock', 'rock', 'alternative rock']\"\n",
            " \"['nu metal', 'rap metal', 'rock', 'alternative metal']\"\n",
            " \"['punk', 'hardcore punk']\"\n",
            " \"['rock', 'post-grunge', 'alternative rock', 'grunge']\"\n",
            " \"['punk', 'skate punk']\"\n",
            " \"['rock', 'glam metal', 'hard rock', 'classic rock']\"\n",
            " \"['classic rock', 'acid rock']\" \"['southern gothic']\"\n",
            " \"['southern rock', 'classic rock', 'rock']\" \"['classic rock', 'rock']\"\n",
            " \"['classic rock', 'rock', 'hard rock', 'rock and roll']\"\n",
            " \"['pop punk', 'punk', 'skate punk']\"\n",
            " \"['grunge', 'post-grunge', 'alternative metal']\"\n",
            " \"['rap metal', 'rap rock', 'alternative metal', 'nu metal']\"\n",
            " \"['nu metal', 'rap metal', 'alternative metal', 'rap rock']\"\n",
            " \"['post-grunge', 'alternative metal', 'hard rock']\"\n",
            " \"['post-grunge', 'alternative metal', 'rock']\" \"['post-grunge']\"\n",
            " \"['nu metal']\" \"['nu metal', 'alternative metal']\"\n",
            " \"['post-grunge', 'rock']\" \"['skate punk', 'punk', 'pop punk']\"\n",
            " \"['emo', 'pop punk']\"\n",
            " \"['grunge', 'alternative rock', 'post-grunge', 'rock']\"\n",
            " \"['nu metal', 'christian rock', 'rap metal', 'rap rock', 'alternative metal']\"\n",
            " \"['nu metal', 'rap metal', 'alternative metal', 'rap rock', 'rock']\"\n",
            " \"['metalcore', 'metal']\" \"['skate punk', 'punk']\"\n",
            " \"['punk', 'hardcore punk', 'skate punk']\"\n",
            " \"['post-grunge', 'alternative metal', 'nu metal']\"\n",
            " \"['metalcore', 'post-hardcore', 'pop punk', 'screamo', 'emo']\"\n",
            " \"['funk rock', 'alternative metal', 'rap metal', 'grunge']\"\n",
            " \"['classic rock', 'progressive rock', 'aor']\"\n",
            " \"['gothic metal', 'symphonic metal', 'gothic rock', 'metal']\"\n",
            " \"['grunge', 'rock']\" \"['stoner rock', 'alternative rock']\"\n",
            " \"['funk rock', 'alternative rock', 'rock']\" \"['grunge']\"\n",
            " \"['classic country', 'southern gothic', 'traditional country']\"\n",
            " \"['glam metal', 'rock']\"]\n"
          ]
        }
      ]
    },
    {
      "cell_type": "code",
      "source": [
        "df = df.drop_duplicates().fillna(0) #remove duplas e preenche valores nulos"
      ],
      "metadata": {
        "id": "RRtv7CFA3fY4"
      },
      "execution_count": 196,
      "outputs": []
    },
    {
      "cell_type": "code",
      "source": [
        "df = df.drop_duplicates(\n",
        "    subset=['music', 'artist', 'duration_ms', 'music_popularity', 'genres', 'artist_popularity', 'followers', 'liked'],\n",
        "    keep='first'\n",
        ").reset_index(drop=True)"
      ],
      "metadata": {
        "id": "Pq0PBg6x5r-M",
        "collapsed": true
      },
      "execution_count": 197,
      "outputs": []
    },
    {
      "cell_type": "code",
      "source": [
        "dummies = df['genres'].str.get_dummies(sep=',') #cria dummies pros gêneros\n",
        "df = pd.concat([df.drop(columns=['genres']), dummies], axis=1)"
      ],
      "metadata": {
        "id": "sWOHhaG-04LL"
      },
      "execution_count": 198,
      "outputs": []
    },
    {
      "cell_type": "markdown",
      "source": [
        "\n",
        "XXX\n"
      ],
      "metadata": {
        "id": "b9uT7b0dMeYz"
      }
    },
    {
      "cell_type": "code",
      "source": [
        "x = df.drop(columns=['liked', 'music', 'artist'], axis=1) #remove as colunas que não serão usadas\n",
        "y = df['liked'] #separando o alvo"
      ],
      "metadata": {
        "id": "meMOy0NDHNJJ"
      },
      "execution_count": 199,
      "outputs": []
    },
    {
      "cell_type": "code",
      "source": [
        "colunas_usadas_no_treino = x.columns.tolist()\n",
        "print(colunas_usadas_no_treino) #armazenar as colunas na variavel para ajudar na hora de utilizar"
      ],
      "metadata": {
        "id": "HWPKye3b4iGA",
        "outputId": "8f864be6-4e0e-4b76-b50a-ca103e1b9951",
        "colab": {
          "base_uri": "https://localhost:8080/"
        }
      },
      "execution_count": 200,
      "outputs": [
        {
          "output_type": "stream",
          "name": "stdout",
          "text": [
            "['duration_ms', 'music_popularity', 'artist_popularity', 'followers', \" 'acid rock']\", \" 'acoustic pop']\", \" 'alternative metal'\", \" 'alternative metal']\", \" 'alternative rock'\", \" 'alternative rock']\", \" 'aor']\", \" 'blues rock'\", \" 'blues'\", \" 'christian rock'\", \" 'classic rock'\", \" 'classic rock']\", \" 'classic soul'\", \" 'emo']\", \" 'glam metal'\", \" 'glam rock']\", \" 'gothic rock'\", \" 'grunge']\", \" 'harana'\", \" 'hard rock'\", \" 'hard rock']\", \" 'hardcore punk'\", \" 'hardcore punk']\", \" 'kundiman']\", \" 'madchester']\", \" 'metal']\", \" 'mpb'\", \" 'neo soul']\", \" 'nu metal']\", \" 'p-pop'\", \" 'pinoy indie'\", \" 'pop punk'\", \" 'pop punk']\", \" 'pop']\", \" 'post-grunge'\", \" 'post-hardcore'\", \" 'progressive rock'\", \" 'punk'\", \" 'punk']\", \" 'rap metal'\", \" 'rap rock'\", \" 'rap rock']\", \" 'rock and roll']\", \" 'rock'\", \" 'rock']\", \" 'roots reggae']\", \" 'screamo'\", \" 'skate punk']\", \" 'soft rock']\", \" 'soul blues']\", \" 'soul']\", \" 'southern gothic'\", \" 'symphonic metal'\", \" 'synthpop']\", \" 'traditional country']\", \" 'yacht rock'\", \"['acid jazz']\", \"['bedroom pop']\", \"['britpop'\", \"['christmas']\", \"['classic country'\", \"['classic rock'\", \"['country']\", \"['disco']\", \"['emo'\", \"['funk rock'\", \"['garage rock'\", \"['glam metal'\", \"['gothic metal'\", \"['grunge'\", \"['grunge']\", \"['indie folk']\", \"['indie']\", \"['k-pop']\", \"['metalcore'\", \"['modern blues'\", \"['motown'\", \"['new wave'\", \"['nu metal'\", \"['nu metal']\", \"['opm'\", \"['pop punk'\", \"['pop']\", \"['post-grunge'\", \"['post-grunge']\", \"['punk'\", \"['r&b'\", \"['r&b']\", \"['rap metal'\", \"['reggae'\", \"['retro soul']\", \"['rock'\", \"['singer-songwriter']\", \"['skate punk'\", \"['soft pop'\", \"['soft pop']\", \"['southern gothic']\", \"['southern rock'\", \"['stoner rock'\", \"['surf rock']\", \"['yacht rock']\"]\n"
          ]
        }
      ]
    },
    {
      "cell_type": "code",
      "source": [
        "numeric_cols = ['duration_ms', 'music_popularity', 'artist_popularity', 'followers']\n",
        "scaler = StandardScaler()\n",
        "x[numeric_cols] = scaler.fit_transform(x[numeric_cols])\n",
        "#pega as colunas númericas e padroniza elas"
      ],
      "metadata": {
        "id": "jG1AN7vVTORI"
      },
      "execution_count": 201,
      "outputs": []
    },
    {
      "cell_type": "code",
      "source": [
        "x_train, x_test, y_train, y_test = train_test_split(x, y, test_size=0.2, random_state=42)"
      ],
      "metadata": {
        "id": "_m6GkE2nTZpB"
      },
      "execution_count": 202,
      "outputs": []
    },
    {
      "cell_type": "code",
      "source": [
        "print(\"Formato de X:\", x.shape)\n",
        "print(\"Formato de y:\", y.shape)\n",
        "print(\"Colunas de X:\", x.columns.tolist())\n",
        "print(\"Valores únicos em y:\", y.unique())"
      ],
      "metadata": {
        "colab": {
          "base_uri": "https://localhost:8080/"
        },
        "id": "OdL_l3gb1Z24",
        "outputId": "673f5693-f9dc-4756-9be9-ad528e2493ba"
      },
      "execution_count": 203,
      "outputs": [
        {
          "output_type": "stream",
          "name": "stdout",
          "text": [
            "Formato de X: (142, 105)\n",
            "Formato de y: (142,)\n",
            "Colunas de X: ['duration_ms', 'music_popularity', 'artist_popularity', 'followers', \" 'acid rock']\", \" 'acoustic pop']\", \" 'alternative metal'\", \" 'alternative metal']\", \" 'alternative rock'\", \" 'alternative rock']\", \" 'aor']\", \" 'blues rock'\", \" 'blues'\", \" 'christian rock'\", \" 'classic rock'\", \" 'classic rock']\", \" 'classic soul'\", \" 'emo']\", \" 'glam metal'\", \" 'glam rock']\", \" 'gothic rock'\", \" 'grunge']\", \" 'harana'\", \" 'hard rock'\", \" 'hard rock']\", \" 'hardcore punk'\", \" 'hardcore punk']\", \" 'kundiman']\", \" 'madchester']\", \" 'metal']\", \" 'mpb'\", \" 'neo soul']\", \" 'nu metal']\", \" 'p-pop'\", \" 'pinoy indie'\", \" 'pop punk'\", \" 'pop punk']\", \" 'pop']\", \" 'post-grunge'\", \" 'post-hardcore'\", \" 'progressive rock'\", \" 'punk'\", \" 'punk']\", \" 'rap metal'\", \" 'rap rock'\", \" 'rap rock']\", \" 'rock and roll']\", \" 'rock'\", \" 'rock']\", \" 'roots reggae']\", \" 'screamo'\", \" 'skate punk']\", \" 'soft rock']\", \" 'soul blues']\", \" 'soul']\", \" 'southern gothic'\", \" 'symphonic metal'\", \" 'synthpop']\", \" 'traditional country']\", \" 'yacht rock'\", \"['acid jazz']\", \"['bedroom pop']\", \"['britpop'\", \"['christmas']\", \"['classic country'\", \"['classic rock'\", \"['country']\", \"['disco']\", \"['emo'\", \"['funk rock'\", \"['garage rock'\", \"['glam metal'\", \"['gothic metal'\", \"['grunge'\", \"['grunge']\", \"['indie folk']\", \"['indie']\", \"['k-pop']\", \"['metalcore'\", \"['modern blues'\", \"['motown'\", \"['new wave'\", \"['nu metal'\", \"['nu metal']\", \"['opm'\", \"['pop punk'\", \"['pop']\", \"['post-grunge'\", \"['post-grunge']\", \"['punk'\", \"['r&b'\", \"['r&b']\", \"['rap metal'\", \"['reggae'\", \"['retro soul']\", \"['rock'\", \"['singer-songwriter']\", \"['skate punk'\", \"['soft pop'\", \"['soft pop']\", \"['southern gothic']\", \"['southern rock'\", \"['stoner rock'\", \"['surf rock']\", \"['yacht rock']\"]\n",
            "Valores únicos em y: [1 0]\n"
          ]
        }
      ]
    },
    {
      "cell_type": "code",
      "source": [
        "x[['duration_ms', 'music_popularity', 'artist_popularity', 'followers']].describe()"
      ],
      "metadata": {
        "colab": {
          "base_uri": "https://localhost:8080/",
          "height": 300
        },
        "id": "wgimp-vD2yFi",
        "outputId": "7c87a443-2fa1-4ace-ad6f-92609cfc9aba"
      },
      "execution_count": 204,
      "outputs": [
        {
          "output_type": "execute_result",
          "data": {
            "text/plain": [
              "        duration_ms  music_popularity  artist_popularity     followers\n",
              "count  1.420000e+02        142.000000       1.420000e+02  1.420000e+02\n",
              "mean   2.501911e-17          0.000000      -3.627771e-16 -5.003822e-17\n",
              "std    1.003540e+00          1.003540       1.003540e+00  1.003540e+00\n",
              "min   -1.903369e+00         -1.459070      -3.702388e+00 -6.296281e-01\n",
              "25%   -6.697050e-01         -1.363273      -5.848648e-01 -4.796166e-01\n",
              "50%   -1.467139e-01          0.560047       1.384005e-01 -3.372727e-01\n",
              "75%    4.012094e-01          0.840071       6.621443e-01  1.417538e-02\n",
              "max    4.684664e+00          1.252737       1.784453e+00  5.531604e+00"
            ],
            "text/html": [
              "\n",
              "  <div id=\"df-ad99dc4f-080b-4184-bbe2-5c78f18c91c4\" class=\"colab-df-container\">\n",
              "    <div>\n",
              "<style scoped>\n",
              "    .dataframe tbody tr th:only-of-type {\n",
              "        vertical-align: middle;\n",
              "    }\n",
              "\n",
              "    .dataframe tbody tr th {\n",
              "        vertical-align: top;\n",
              "    }\n",
              "\n",
              "    .dataframe thead th {\n",
              "        text-align: right;\n",
              "    }\n",
              "</style>\n",
              "<table border=\"1\" class=\"dataframe\">\n",
              "  <thead>\n",
              "    <tr style=\"text-align: right;\">\n",
              "      <th></th>\n",
              "      <th>duration_ms</th>\n",
              "      <th>music_popularity</th>\n",
              "      <th>artist_popularity</th>\n",
              "      <th>followers</th>\n",
              "    </tr>\n",
              "  </thead>\n",
              "  <tbody>\n",
              "    <tr>\n",
              "      <th>count</th>\n",
              "      <td>1.420000e+02</td>\n",
              "      <td>142.000000</td>\n",
              "      <td>1.420000e+02</td>\n",
              "      <td>1.420000e+02</td>\n",
              "    </tr>\n",
              "    <tr>\n",
              "      <th>mean</th>\n",
              "      <td>2.501911e-17</td>\n",
              "      <td>0.000000</td>\n",
              "      <td>-3.627771e-16</td>\n",
              "      <td>-5.003822e-17</td>\n",
              "    </tr>\n",
              "    <tr>\n",
              "      <th>std</th>\n",
              "      <td>1.003540e+00</td>\n",
              "      <td>1.003540</td>\n",
              "      <td>1.003540e+00</td>\n",
              "      <td>1.003540e+00</td>\n",
              "    </tr>\n",
              "    <tr>\n",
              "      <th>min</th>\n",
              "      <td>-1.903369e+00</td>\n",
              "      <td>-1.459070</td>\n",
              "      <td>-3.702388e+00</td>\n",
              "      <td>-6.296281e-01</td>\n",
              "    </tr>\n",
              "    <tr>\n",
              "      <th>25%</th>\n",
              "      <td>-6.697050e-01</td>\n",
              "      <td>-1.363273</td>\n",
              "      <td>-5.848648e-01</td>\n",
              "      <td>-4.796166e-01</td>\n",
              "    </tr>\n",
              "    <tr>\n",
              "      <th>50%</th>\n",
              "      <td>-1.467139e-01</td>\n",
              "      <td>0.560047</td>\n",
              "      <td>1.384005e-01</td>\n",
              "      <td>-3.372727e-01</td>\n",
              "    </tr>\n",
              "    <tr>\n",
              "      <th>75%</th>\n",
              "      <td>4.012094e-01</td>\n",
              "      <td>0.840071</td>\n",
              "      <td>6.621443e-01</td>\n",
              "      <td>1.417538e-02</td>\n",
              "    </tr>\n",
              "    <tr>\n",
              "      <th>max</th>\n",
              "      <td>4.684664e+00</td>\n",
              "      <td>1.252737</td>\n",
              "      <td>1.784453e+00</td>\n",
              "      <td>5.531604e+00</td>\n",
              "    </tr>\n",
              "  </tbody>\n",
              "</table>\n",
              "</div>\n",
              "    <div class=\"colab-df-buttons\">\n",
              "\n",
              "  <div class=\"colab-df-container\">\n",
              "    <button class=\"colab-df-convert\" onclick=\"convertToInteractive('df-ad99dc4f-080b-4184-bbe2-5c78f18c91c4')\"\n",
              "            title=\"Convert this dataframe to an interactive table.\"\n",
              "            style=\"display:none;\">\n",
              "\n",
              "  <svg xmlns=\"http://www.w3.org/2000/svg\" height=\"24px\" viewBox=\"0 -960 960 960\">\n",
              "    <path d=\"M120-120v-720h720v720H120Zm60-500h600v-160H180v160Zm220 220h160v-160H400v160Zm0 220h160v-160H400v160ZM180-400h160v-160H180v160Zm440 0h160v-160H620v160ZM180-180h160v-160H180v160Zm440 0h160v-160H620v160Z\"/>\n",
              "  </svg>\n",
              "    </button>\n",
              "\n",
              "  <style>\n",
              "    .colab-df-container {\n",
              "      display:flex;\n",
              "      gap: 12px;\n",
              "    }\n",
              "\n",
              "    .colab-df-convert {\n",
              "      background-color: #E8F0FE;\n",
              "      border: none;\n",
              "      border-radius: 50%;\n",
              "      cursor: pointer;\n",
              "      display: none;\n",
              "      fill: #1967D2;\n",
              "      height: 32px;\n",
              "      padding: 0 0 0 0;\n",
              "      width: 32px;\n",
              "    }\n",
              "\n",
              "    .colab-df-convert:hover {\n",
              "      background-color: #E2EBFA;\n",
              "      box-shadow: 0px 1px 2px rgba(60, 64, 67, 0.3), 0px 1px 3px 1px rgba(60, 64, 67, 0.15);\n",
              "      fill: #174EA6;\n",
              "    }\n",
              "\n",
              "    .colab-df-buttons div {\n",
              "      margin-bottom: 4px;\n",
              "    }\n",
              "\n",
              "    [theme=dark] .colab-df-convert {\n",
              "      background-color: #3B4455;\n",
              "      fill: #D2E3FC;\n",
              "    }\n",
              "\n",
              "    [theme=dark] .colab-df-convert:hover {\n",
              "      background-color: #434B5C;\n",
              "      box-shadow: 0px 1px 3px 1px rgba(0, 0, 0, 0.15);\n",
              "      filter: drop-shadow(0px 1px 2px rgba(0, 0, 0, 0.3));\n",
              "      fill: #FFFFFF;\n",
              "    }\n",
              "  </style>\n",
              "\n",
              "    <script>\n",
              "      const buttonEl =\n",
              "        document.querySelector('#df-ad99dc4f-080b-4184-bbe2-5c78f18c91c4 button.colab-df-convert');\n",
              "      buttonEl.style.display =\n",
              "        google.colab.kernel.accessAllowed ? 'block' : 'none';\n",
              "\n",
              "      async function convertToInteractive(key) {\n",
              "        const element = document.querySelector('#df-ad99dc4f-080b-4184-bbe2-5c78f18c91c4');\n",
              "        const dataTable =\n",
              "          await google.colab.kernel.invokeFunction('convertToInteractive',\n",
              "                                                    [key], {});\n",
              "        if (!dataTable) return;\n",
              "\n",
              "        const docLinkHtml = 'Like what you see? Visit the ' +\n",
              "          '<a target=\"_blank\" href=https://colab.research.google.com/notebooks/data_table.ipynb>data table notebook</a>'\n",
              "          + ' to learn more about interactive tables.';\n",
              "        element.innerHTML = '';\n",
              "        dataTable['output_type'] = 'display_data';\n",
              "        await google.colab.output.renderOutput(dataTable, element);\n",
              "        const docLink = document.createElement('div');\n",
              "        docLink.innerHTML = docLinkHtml;\n",
              "        element.appendChild(docLink);\n",
              "      }\n",
              "    </script>\n",
              "  </div>\n",
              "\n",
              "\n",
              "    <div id=\"df-04b68845-b4ec-4f34-8b1c-2ff7dec6b53f\">\n",
              "      <button class=\"colab-df-quickchart\" onclick=\"quickchart('df-04b68845-b4ec-4f34-8b1c-2ff7dec6b53f')\"\n",
              "                title=\"Suggest charts\"\n",
              "                style=\"display:none;\">\n",
              "\n",
              "<svg xmlns=\"http://www.w3.org/2000/svg\" height=\"24px\"viewBox=\"0 0 24 24\"\n",
              "     width=\"24px\">\n",
              "    <g>\n",
              "        <path d=\"M19 3H5c-1.1 0-2 .9-2 2v14c0 1.1.9 2 2 2h14c1.1 0 2-.9 2-2V5c0-1.1-.9-2-2-2zM9 17H7v-7h2v7zm4 0h-2V7h2v10zm4 0h-2v-4h2v4z\"/>\n",
              "    </g>\n",
              "</svg>\n",
              "      </button>\n",
              "\n",
              "<style>\n",
              "  .colab-df-quickchart {\n",
              "      --bg-color: #E8F0FE;\n",
              "      --fill-color: #1967D2;\n",
              "      --hover-bg-color: #E2EBFA;\n",
              "      --hover-fill-color: #174EA6;\n",
              "      --disabled-fill-color: #AAA;\n",
              "      --disabled-bg-color: #DDD;\n",
              "  }\n",
              "\n",
              "  [theme=dark] .colab-df-quickchart {\n",
              "      --bg-color: #3B4455;\n",
              "      --fill-color: #D2E3FC;\n",
              "      --hover-bg-color: #434B5C;\n",
              "      --hover-fill-color: #FFFFFF;\n",
              "      --disabled-bg-color: #3B4455;\n",
              "      --disabled-fill-color: #666;\n",
              "  }\n",
              "\n",
              "  .colab-df-quickchart {\n",
              "    background-color: var(--bg-color);\n",
              "    border: none;\n",
              "    border-radius: 50%;\n",
              "    cursor: pointer;\n",
              "    display: none;\n",
              "    fill: var(--fill-color);\n",
              "    height: 32px;\n",
              "    padding: 0;\n",
              "    width: 32px;\n",
              "  }\n",
              "\n",
              "  .colab-df-quickchart:hover {\n",
              "    background-color: var(--hover-bg-color);\n",
              "    box-shadow: 0 1px 2px rgba(60, 64, 67, 0.3), 0 1px 3px 1px rgba(60, 64, 67, 0.15);\n",
              "    fill: var(--button-hover-fill-color);\n",
              "  }\n",
              "\n",
              "  .colab-df-quickchart-complete:disabled,\n",
              "  .colab-df-quickchart-complete:disabled:hover {\n",
              "    background-color: var(--disabled-bg-color);\n",
              "    fill: var(--disabled-fill-color);\n",
              "    box-shadow: none;\n",
              "  }\n",
              "\n",
              "  .colab-df-spinner {\n",
              "    border: 2px solid var(--fill-color);\n",
              "    border-color: transparent;\n",
              "    border-bottom-color: var(--fill-color);\n",
              "    animation:\n",
              "      spin 1s steps(1) infinite;\n",
              "  }\n",
              "\n",
              "  @keyframes spin {\n",
              "    0% {\n",
              "      border-color: transparent;\n",
              "      border-bottom-color: var(--fill-color);\n",
              "      border-left-color: var(--fill-color);\n",
              "    }\n",
              "    20% {\n",
              "      border-color: transparent;\n",
              "      border-left-color: var(--fill-color);\n",
              "      border-top-color: var(--fill-color);\n",
              "    }\n",
              "    30% {\n",
              "      border-color: transparent;\n",
              "      border-left-color: var(--fill-color);\n",
              "      border-top-color: var(--fill-color);\n",
              "      border-right-color: var(--fill-color);\n",
              "    }\n",
              "    40% {\n",
              "      border-color: transparent;\n",
              "      border-right-color: var(--fill-color);\n",
              "      border-top-color: var(--fill-color);\n",
              "    }\n",
              "    60% {\n",
              "      border-color: transparent;\n",
              "      border-right-color: var(--fill-color);\n",
              "    }\n",
              "    80% {\n",
              "      border-color: transparent;\n",
              "      border-right-color: var(--fill-color);\n",
              "      border-bottom-color: var(--fill-color);\n",
              "    }\n",
              "    90% {\n",
              "      border-color: transparent;\n",
              "      border-bottom-color: var(--fill-color);\n",
              "    }\n",
              "  }\n",
              "</style>\n",
              "\n",
              "      <script>\n",
              "        async function quickchart(key) {\n",
              "          const quickchartButtonEl =\n",
              "            document.querySelector('#' + key + ' button');\n",
              "          quickchartButtonEl.disabled = true;  // To prevent multiple clicks.\n",
              "          quickchartButtonEl.classList.add('colab-df-spinner');\n",
              "          try {\n",
              "            const charts = await google.colab.kernel.invokeFunction(\n",
              "                'suggestCharts', [key], {});\n",
              "          } catch (error) {\n",
              "            console.error('Error during call to suggestCharts:', error);\n",
              "          }\n",
              "          quickchartButtonEl.classList.remove('colab-df-spinner');\n",
              "          quickchartButtonEl.classList.add('colab-df-quickchart-complete');\n",
              "        }\n",
              "        (() => {\n",
              "          let quickchartButtonEl =\n",
              "            document.querySelector('#df-04b68845-b4ec-4f34-8b1c-2ff7dec6b53f button');\n",
              "          quickchartButtonEl.style.display =\n",
              "            google.colab.kernel.accessAllowed ? 'block' : 'none';\n",
              "        })();\n",
              "      </script>\n",
              "    </div>\n",
              "\n",
              "    </div>\n",
              "  </div>\n"
            ],
            "application/vnd.google.colaboratory.intrinsic+json": {
              "type": "dataframe",
              "summary": "{\n  \"name\": \"x[['duration_ms', 'music_popularity', 'artist_popularity', 'followers']]\",\n  \"rows\": 8,\n  \"fields\": [\n    {\n      \"column\": \"duration_ms\",\n      \"properties\": {\n        \"dtype\": \"number\",\n        \"std\": 50.07090112942043,\n        \"min\": -1.9033692290801665,\n        \"max\": 142.0,\n        \"num_unique_values\": 8,\n        \"samples\": [\n          2.5019110414088035e-17,\n          -0.1467138659008258,\n          142.0\n        ],\n        \"semantic_type\": \"\",\n        \"description\": \"\"\n      }\n    },\n    {\n      \"column\": \"music_popularity\",\n      \"properties\": {\n        \"dtype\": \"number\",\n        \"std\": 50.17311091804803,\n        \"min\": -1.4590701515710598,\n        \"max\": 142.0,\n        \"num_unique_values\": 8,\n        \"samples\": [\n          0.0,\n          0.5600471288858613,\n          142.0\n        ],\n        \"semantic_type\": \"\",\n        \"description\": \"\"\n      }\n    },\n    {\n      \"column\": \"artist_popularity\",\n      \"properties\": {\n        \"dtype\": \"number\",\n        \"std\": 50.26635066906757,\n        \"min\": -3.702387676763865,\n        \"max\": 142.0,\n        \"num_unique_values\": 8,\n        \"samples\": [\n          -3.627771010042765e-16,\n          0.13840045015606822,\n          142.0\n        ],\n        \"semantic_type\": \"\",\n        \"description\": \"\"\n      }\n    },\n    {\n      \"column\": \"followers\",\n      \"properties\": {\n        \"dtype\": \"number\",\n        \"std\": 49.98777258355321,\n        \"min\": -0.6296281348121445,\n        \"max\": 142.0,\n        \"num_unique_values\": 8,\n        \"samples\": [\n          -5.003822082817607e-17,\n          -0.3372727383141316,\n          142.0\n        ],\n        \"semantic_type\": \"\",\n        \"description\": \"\"\n      }\n    }\n  ]\n}"
            }
          },
          "metadata": {},
          "execution_count": 204
        }
      ]
    },
    {
      "cell_type": "code",
      "source": [
        "print(\"Valores nulos em X:\\n\", x.isnull().sum())\n",
        "print(\"Valores nulos em y:\", y.isnull().sum())"
      ],
      "metadata": {
        "colab": {
          "base_uri": "https://localhost:8080/"
        },
        "id": "2ZZ2zSY93Mbr",
        "outputId": "d7d2e1f1-b27e-4a8c-eafe-b21b7cd77313"
      },
      "execution_count": 205,
      "outputs": [
        {
          "output_type": "stream",
          "name": "stdout",
          "text": [
            "Valores nulos em X:\n",
            " duration_ms            0\n",
            "music_popularity       0\n",
            "artist_popularity      0\n",
            "followers              0\n",
            " 'acid rock']          0\n",
            "                      ..\n",
            "['southern gothic']    0\n",
            "['southern rock'       0\n",
            "['stoner rock'         0\n",
            "['surf rock']          0\n",
            "['yacht rock']         0\n",
            "Length: 105, dtype: int64\n",
            "Valores nulos em y: 0\n"
          ]
        }
      ]
    },
    {
      "cell_type": "code",
      "source": [
        "print(\"Tamanho do conjunto de treino:\", x_train.shape)\n",
        "print(\"Tamanho do conjunto de teste:\", x_test.shape)"
      ],
      "metadata": {
        "colab": {
          "base_uri": "https://localhost:8080/"
        },
        "id": "bVykKgW83mW2",
        "outputId": "993de8f0-ec43-460b-97d0-45b1822e7f13"
      },
      "execution_count": 206,
      "outputs": [
        {
          "output_type": "stream",
          "name": "stdout",
          "text": [
            "Tamanho do conjunto de treino: (113, 105)\n",
            "Tamanho do conjunto de teste: (29, 105)\n"
          ]
        }
      ]
    },
    {
      "cell_type": "code",
      "source": [
        "x.head()"
      ],
      "metadata": {
        "colab": {
          "base_uri": "https://localhost:8080/",
          "height": 272
        },
        "collapsed": true,
        "id": "q1rNHDFG3tMH",
        "outputId": "c0db9033-f56b-4912-a21b-e8fa1abdd7cb"
      },
      "execution_count": 207,
      "outputs": [
        {
          "output_type": "execute_result",
          "data": {
            "text/plain": [
              "   duration_ms  music_popularity  artist_popularity  followers   'acid rock']  \\\n",
              "0    -1.029355          0.722166           0.487563  -0.076675              0   \n",
              "1     0.027566          0.781118           0.387802  -0.317030              0   \n",
              "2    -0.239000          1.046404           0.587324   0.012511              0   \n",
              "3     0.175594          1.046404          -0.210762  -0.416673              0   \n",
              "4    -0.282597          0.751642          -0.011241  -0.281761              0   \n",
              "\n",
              "    'acoustic pop']   'alternative metal'   'alternative metal']  \\\n",
              "0                 0                     0                      0   \n",
              "1                 0                     0                      0   \n",
              "2                 0                     0                      0   \n",
              "3                 0                     0                      0   \n",
              "4                 0                     0                      0   \n",
              "\n",
              "    'alternative rock'   'alternative rock']  ...  ['rock'  \\\n",
              "0                    0                     0  ...        0   \n",
              "1                    0                     0  ...        0   \n",
              "2                    0                     0  ...        0   \n",
              "3                    0                     0  ...        0   \n",
              "4                    0                     0  ...        0   \n",
              "\n",
              "   ['singer-songwriter']  ['skate punk'  ['soft pop'  ['soft pop']  \\\n",
              "0                      0              0            0             0   \n",
              "1                      1              0            0             0   \n",
              "2                      0              0            0             0   \n",
              "3                      0              0            0             0   \n",
              "4                      0              0            0             0   \n",
              "\n",
              "   ['southern gothic']  ['southern rock'  ['stoner rock'  ['surf rock']  \\\n",
              "0                    0                 0               0              0   \n",
              "1                    0                 0               0              0   \n",
              "2                    0                 0               0              0   \n",
              "3                    0                 0               0              0   \n",
              "4                    0                 0               0              0   \n",
              "\n",
              "   ['yacht rock']  \n",
              "0               0  \n",
              "1               0  \n",
              "2               0  \n",
              "3               0  \n",
              "4               0  \n",
              "\n",
              "[5 rows x 105 columns]"
            ],
            "text/html": [
              "\n",
              "  <div id=\"df-c56ae12d-6ca0-4b41-98d1-bc67d6a6fa80\" class=\"colab-df-container\">\n",
              "    <div>\n",
              "<style scoped>\n",
              "    .dataframe tbody tr th:only-of-type {\n",
              "        vertical-align: middle;\n",
              "    }\n",
              "\n",
              "    .dataframe tbody tr th {\n",
              "        vertical-align: top;\n",
              "    }\n",
              "\n",
              "    .dataframe thead th {\n",
              "        text-align: right;\n",
              "    }\n",
              "</style>\n",
              "<table border=\"1\" class=\"dataframe\">\n",
              "  <thead>\n",
              "    <tr style=\"text-align: right;\">\n",
              "      <th></th>\n",
              "      <th>duration_ms</th>\n",
              "      <th>music_popularity</th>\n",
              "      <th>artist_popularity</th>\n",
              "      <th>followers</th>\n",
              "      <th>'acid rock']</th>\n",
              "      <th>'acoustic pop']</th>\n",
              "      <th>'alternative metal'</th>\n",
              "      <th>'alternative metal']</th>\n",
              "      <th>'alternative rock'</th>\n",
              "      <th>'alternative rock']</th>\n",
              "      <th>...</th>\n",
              "      <th>['rock'</th>\n",
              "      <th>['singer-songwriter']</th>\n",
              "      <th>['skate punk'</th>\n",
              "      <th>['soft pop'</th>\n",
              "      <th>['soft pop']</th>\n",
              "      <th>['southern gothic']</th>\n",
              "      <th>['southern rock'</th>\n",
              "      <th>['stoner rock'</th>\n",
              "      <th>['surf rock']</th>\n",
              "      <th>['yacht rock']</th>\n",
              "    </tr>\n",
              "  </thead>\n",
              "  <tbody>\n",
              "    <tr>\n",
              "      <th>0</th>\n",
              "      <td>-1.029355</td>\n",
              "      <td>0.722166</td>\n",
              "      <td>0.487563</td>\n",
              "      <td>-0.076675</td>\n",
              "      <td>0</td>\n",
              "      <td>0</td>\n",
              "      <td>0</td>\n",
              "      <td>0</td>\n",
              "      <td>0</td>\n",
              "      <td>0</td>\n",
              "      <td>...</td>\n",
              "      <td>0</td>\n",
              "      <td>0</td>\n",
              "      <td>0</td>\n",
              "      <td>0</td>\n",
              "      <td>0</td>\n",
              "      <td>0</td>\n",
              "      <td>0</td>\n",
              "      <td>0</td>\n",
              "      <td>0</td>\n",
              "      <td>0</td>\n",
              "    </tr>\n",
              "    <tr>\n",
              "      <th>1</th>\n",
              "      <td>0.027566</td>\n",
              "      <td>0.781118</td>\n",
              "      <td>0.387802</td>\n",
              "      <td>-0.317030</td>\n",
              "      <td>0</td>\n",
              "      <td>0</td>\n",
              "      <td>0</td>\n",
              "      <td>0</td>\n",
              "      <td>0</td>\n",
              "      <td>0</td>\n",
              "      <td>...</td>\n",
              "      <td>0</td>\n",
              "      <td>1</td>\n",
              "      <td>0</td>\n",
              "      <td>0</td>\n",
              "      <td>0</td>\n",
              "      <td>0</td>\n",
              "      <td>0</td>\n",
              "      <td>0</td>\n",
              "      <td>0</td>\n",
              "      <td>0</td>\n",
              "    </tr>\n",
              "    <tr>\n",
              "      <th>2</th>\n",
              "      <td>-0.239000</td>\n",
              "      <td>1.046404</td>\n",
              "      <td>0.587324</td>\n",
              "      <td>0.012511</td>\n",
              "      <td>0</td>\n",
              "      <td>0</td>\n",
              "      <td>0</td>\n",
              "      <td>0</td>\n",
              "      <td>0</td>\n",
              "      <td>0</td>\n",
              "      <td>...</td>\n",
              "      <td>0</td>\n",
              "      <td>0</td>\n",
              "      <td>0</td>\n",
              "      <td>0</td>\n",
              "      <td>0</td>\n",
              "      <td>0</td>\n",
              "      <td>0</td>\n",
              "      <td>0</td>\n",
              "      <td>0</td>\n",
              "      <td>0</td>\n",
              "    </tr>\n",
              "    <tr>\n",
              "      <th>3</th>\n",
              "      <td>0.175594</td>\n",
              "      <td>1.046404</td>\n",
              "      <td>-0.210762</td>\n",
              "      <td>-0.416673</td>\n",
              "      <td>0</td>\n",
              "      <td>0</td>\n",
              "      <td>0</td>\n",
              "      <td>0</td>\n",
              "      <td>0</td>\n",
              "      <td>0</td>\n",
              "      <td>...</td>\n",
              "      <td>0</td>\n",
              "      <td>0</td>\n",
              "      <td>0</td>\n",
              "      <td>0</td>\n",
              "      <td>0</td>\n",
              "      <td>0</td>\n",
              "      <td>0</td>\n",
              "      <td>0</td>\n",
              "      <td>0</td>\n",
              "      <td>0</td>\n",
              "    </tr>\n",
              "    <tr>\n",
              "      <th>4</th>\n",
              "      <td>-0.282597</td>\n",
              "      <td>0.751642</td>\n",
              "      <td>-0.011241</td>\n",
              "      <td>-0.281761</td>\n",
              "      <td>0</td>\n",
              "      <td>0</td>\n",
              "      <td>0</td>\n",
              "      <td>0</td>\n",
              "      <td>0</td>\n",
              "      <td>0</td>\n",
              "      <td>...</td>\n",
              "      <td>0</td>\n",
              "      <td>0</td>\n",
              "      <td>0</td>\n",
              "      <td>0</td>\n",
              "      <td>0</td>\n",
              "      <td>0</td>\n",
              "      <td>0</td>\n",
              "      <td>0</td>\n",
              "      <td>0</td>\n",
              "      <td>0</td>\n",
              "    </tr>\n",
              "  </tbody>\n",
              "</table>\n",
              "<p>5 rows × 105 columns</p>\n",
              "</div>\n",
              "    <div class=\"colab-df-buttons\">\n",
              "\n",
              "  <div class=\"colab-df-container\">\n",
              "    <button class=\"colab-df-convert\" onclick=\"convertToInteractive('df-c56ae12d-6ca0-4b41-98d1-bc67d6a6fa80')\"\n",
              "            title=\"Convert this dataframe to an interactive table.\"\n",
              "            style=\"display:none;\">\n",
              "\n",
              "  <svg xmlns=\"http://www.w3.org/2000/svg\" height=\"24px\" viewBox=\"0 -960 960 960\">\n",
              "    <path d=\"M120-120v-720h720v720H120Zm60-500h600v-160H180v160Zm220 220h160v-160H400v160Zm0 220h160v-160H400v160ZM180-400h160v-160H180v160Zm440 0h160v-160H620v160ZM180-180h160v-160H180v160Zm440 0h160v-160H620v160Z\"/>\n",
              "  </svg>\n",
              "    </button>\n",
              "\n",
              "  <style>\n",
              "    .colab-df-container {\n",
              "      display:flex;\n",
              "      gap: 12px;\n",
              "    }\n",
              "\n",
              "    .colab-df-convert {\n",
              "      background-color: #E8F0FE;\n",
              "      border: none;\n",
              "      border-radius: 50%;\n",
              "      cursor: pointer;\n",
              "      display: none;\n",
              "      fill: #1967D2;\n",
              "      height: 32px;\n",
              "      padding: 0 0 0 0;\n",
              "      width: 32px;\n",
              "    }\n",
              "\n",
              "    .colab-df-convert:hover {\n",
              "      background-color: #E2EBFA;\n",
              "      box-shadow: 0px 1px 2px rgba(60, 64, 67, 0.3), 0px 1px 3px 1px rgba(60, 64, 67, 0.15);\n",
              "      fill: #174EA6;\n",
              "    }\n",
              "\n",
              "    .colab-df-buttons div {\n",
              "      margin-bottom: 4px;\n",
              "    }\n",
              "\n",
              "    [theme=dark] .colab-df-convert {\n",
              "      background-color: #3B4455;\n",
              "      fill: #D2E3FC;\n",
              "    }\n",
              "\n",
              "    [theme=dark] .colab-df-convert:hover {\n",
              "      background-color: #434B5C;\n",
              "      box-shadow: 0px 1px 3px 1px rgba(0, 0, 0, 0.15);\n",
              "      filter: drop-shadow(0px 1px 2px rgba(0, 0, 0, 0.3));\n",
              "      fill: #FFFFFF;\n",
              "    }\n",
              "  </style>\n",
              "\n",
              "    <script>\n",
              "      const buttonEl =\n",
              "        document.querySelector('#df-c56ae12d-6ca0-4b41-98d1-bc67d6a6fa80 button.colab-df-convert');\n",
              "      buttonEl.style.display =\n",
              "        google.colab.kernel.accessAllowed ? 'block' : 'none';\n",
              "\n",
              "      async function convertToInteractive(key) {\n",
              "        const element = document.querySelector('#df-c56ae12d-6ca0-4b41-98d1-bc67d6a6fa80');\n",
              "        const dataTable =\n",
              "          await google.colab.kernel.invokeFunction('convertToInteractive',\n",
              "                                                    [key], {});\n",
              "        if (!dataTable) return;\n",
              "\n",
              "        const docLinkHtml = 'Like what you see? Visit the ' +\n",
              "          '<a target=\"_blank\" href=https://colab.research.google.com/notebooks/data_table.ipynb>data table notebook</a>'\n",
              "          + ' to learn more about interactive tables.';\n",
              "        element.innerHTML = '';\n",
              "        dataTable['output_type'] = 'display_data';\n",
              "        await google.colab.output.renderOutput(dataTable, element);\n",
              "        const docLink = document.createElement('div');\n",
              "        docLink.innerHTML = docLinkHtml;\n",
              "        element.appendChild(docLink);\n",
              "      }\n",
              "    </script>\n",
              "  </div>\n",
              "\n",
              "\n",
              "    <div id=\"df-6f463045-c14f-4dcc-8d9f-324a48732874\">\n",
              "      <button class=\"colab-df-quickchart\" onclick=\"quickchart('df-6f463045-c14f-4dcc-8d9f-324a48732874')\"\n",
              "                title=\"Suggest charts\"\n",
              "                style=\"display:none;\">\n",
              "\n",
              "<svg xmlns=\"http://www.w3.org/2000/svg\" height=\"24px\"viewBox=\"0 0 24 24\"\n",
              "     width=\"24px\">\n",
              "    <g>\n",
              "        <path d=\"M19 3H5c-1.1 0-2 .9-2 2v14c0 1.1.9 2 2 2h14c1.1 0 2-.9 2-2V5c0-1.1-.9-2-2-2zM9 17H7v-7h2v7zm4 0h-2V7h2v10zm4 0h-2v-4h2v4z\"/>\n",
              "    </g>\n",
              "</svg>\n",
              "      </button>\n",
              "\n",
              "<style>\n",
              "  .colab-df-quickchart {\n",
              "      --bg-color: #E8F0FE;\n",
              "      --fill-color: #1967D2;\n",
              "      --hover-bg-color: #E2EBFA;\n",
              "      --hover-fill-color: #174EA6;\n",
              "      --disabled-fill-color: #AAA;\n",
              "      --disabled-bg-color: #DDD;\n",
              "  }\n",
              "\n",
              "  [theme=dark] .colab-df-quickchart {\n",
              "      --bg-color: #3B4455;\n",
              "      --fill-color: #D2E3FC;\n",
              "      --hover-bg-color: #434B5C;\n",
              "      --hover-fill-color: #FFFFFF;\n",
              "      --disabled-bg-color: #3B4455;\n",
              "      --disabled-fill-color: #666;\n",
              "  }\n",
              "\n",
              "  .colab-df-quickchart {\n",
              "    background-color: var(--bg-color);\n",
              "    border: none;\n",
              "    border-radius: 50%;\n",
              "    cursor: pointer;\n",
              "    display: none;\n",
              "    fill: var(--fill-color);\n",
              "    height: 32px;\n",
              "    padding: 0;\n",
              "    width: 32px;\n",
              "  }\n",
              "\n",
              "  .colab-df-quickchart:hover {\n",
              "    background-color: var(--hover-bg-color);\n",
              "    box-shadow: 0 1px 2px rgba(60, 64, 67, 0.3), 0 1px 3px 1px rgba(60, 64, 67, 0.15);\n",
              "    fill: var(--button-hover-fill-color);\n",
              "  }\n",
              "\n",
              "  .colab-df-quickchart-complete:disabled,\n",
              "  .colab-df-quickchart-complete:disabled:hover {\n",
              "    background-color: var(--disabled-bg-color);\n",
              "    fill: var(--disabled-fill-color);\n",
              "    box-shadow: none;\n",
              "  }\n",
              "\n",
              "  .colab-df-spinner {\n",
              "    border: 2px solid var(--fill-color);\n",
              "    border-color: transparent;\n",
              "    border-bottom-color: var(--fill-color);\n",
              "    animation:\n",
              "      spin 1s steps(1) infinite;\n",
              "  }\n",
              "\n",
              "  @keyframes spin {\n",
              "    0% {\n",
              "      border-color: transparent;\n",
              "      border-bottom-color: var(--fill-color);\n",
              "      border-left-color: var(--fill-color);\n",
              "    }\n",
              "    20% {\n",
              "      border-color: transparent;\n",
              "      border-left-color: var(--fill-color);\n",
              "      border-top-color: var(--fill-color);\n",
              "    }\n",
              "    30% {\n",
              "      border-color: transparent;\n",
              "      border-left-color: var(--fill-color);\n",
              "      border-top-color: var(--fill-color);\n",
              "      border-right-color: var(--fill-color);\n",
              "    }\n",
              "    40% {\n",
              "      border-color: transparent;\n",
              "      border-right-color: var(--fill-color);\n",
              "      border-top-color: var(--fill-color);\n",
              "    }\n",
              "    60% {\n",
              "      border-color: transparent;\n",
              "      border-right-color: var(--fill-color);\n",
              "    }\n",
              "    80% {\n",
              "      border-color: transparent;\n",
              "      border-right-color: var(--fill-color);\n",
              "      border-bottom-color: var(--fill-color);\n",
              "    }\n",
              "    90% {\n",
              "      border-color: transparent;\n",
              "      border-bottom-color: var(--fill-color);\n",
              "    }\n",
              "  }\n",
              "</style>\n",
              "\n",
              "      <script>\n",
              "        async function quickchart(key) {\n",
              "          const quickchartButtonEl =\n",
              "            document.querySelector('#' + key + ' button');\n",
              "          quickchartButtonEl.disabled = true;  // To prevent multiple clicks.\n",
              "          quickchartButtonEl.classList.add('colab-df-spinner');\n",
              "          try {\n",
              "            const charts = await google.colab.kernel.invokeFunction(\n",
              "                'suggestCharts', [key], {});\n",
              "          } catch (error) {\n",
              "            console.error('Error during call to suggestCharts:', error);\n",
              "          }\n",
              "          quickchartButtonEl.classList.remove('colab-df-spinner');\n",
              "          quickchartButtonEl.classList.add('colab-df-quickchart-complete');\n",
              "        }\n",
              "        (() => {\n",
              "          let quickchartButtonEl =\n",
              "            document.querySelector('#df-6f463045-c14f-4dcc-8d9f-324a48732874 button');\n",
              "          quickchartButtonEl.style.display =\n",
              "            google.colab.kernel.accessAllowed ? 'block' : 'none';\n",
              "        })();\n",
              "      </script>\n",
              "    </div>\n",
              "\n",
              "    </div>\n",
              "  </div>\n"
            ],
            "application/vnd.google.colaboratory.intrinsic+json": {
              "type": "dataframe",
              "variable_name": "x"
            }
          },
          "metadata": {},
          "execution_count": 207
        }
      ]
    },
    {
      "cell_type": "code",
      "source": [
        "from sklearn.ensemble import RandomForestClassifier\n",
        "from sklearn.metrics import accuracy_score, classification_report, confusion_matrix"
      ],
      "metadata": {
        "id": "9nVRxXsq4HlL"
      },
      "execution_count": 208,
      "outputs": []
    },
    {
      "cell_type": "code",
      "source": [
        "rf = RandomForestClassifier(n_estimators=100, random_state=42)\n",
        "rf.fit(x_train, y_train)"
      ],
      "metadata": {
        "colab": {
          "base_uri": "https://localhost:8080/",
          "height": 80
        },
        "id": "kGb76ua-BiLc",
        "outputId": "93fde941-0186-4dfa-ae3b-90e8c6b8ca03"
      },
      "execution_count": 209,
      "outputs": [
        {
          "output_type": "execute_result",
          "data": {
            "text/plain": [
              "RandomForestClassifier(random_state=42)"
            ],
            "text/html": [
              "<style>#sk-container-id-3 {\n",
              "  /* Definition of color scheme common for light and dark mode */\n",
              "  --sklearn-color-text: #000;\n",
              "  --sklearn-color-text-muted: #666;\n",
              "  --sklearn-color-line: gray;\n",
              "  /* Definition of color scheme for unfitted estimators */\n",
              "  --sklearn-color-unfitted-level-0: #fff5e6;\n",
              "  --sklearn-color-unfitted-level-1: #f6e4d2;\n",
              "  --sklearn-color-unfitted-level-2: #ffe0b3;\n",
              "  --sklearn-color-unfitted-level-3: chocolate;\n",
              "  /* Definition of color scheme for fitted estimators */\n",
              "  --sklearn-color-fitted-level-0: #f0f8ff;\n",
              "  --sklearn-color-fitted-level-1: #d4ebff;\n",
              "  --sklearn-color-fitted-level-2: #b3dbfd;\n",
              "  --sklearn-color-fitted-level-3: cornflowerblue;\n",
              "\n",
              "  /* Specific color for light theme */\n",
              "  --sklearn-color-text-on-default-background: var(--sg-text-color, var(--theme-code-foreground, var(--jp-content-font-color1, black)));\n",
              "  --sklearn-color-background: var(--sg-background-color, var(--theme-background, var(--jp-layout-color0, white)));\n",
              "  --sklearn-color-border-box: var(--sg-text-color, var(--theme-code-foreground, var(--jp-content-font-color1, black)));\n",
              "  --sklearn-color-icon: #696969;\n",
              "\n",
              "  @media (prefers-color-scheme: dark) {\n",
              "    /* Redefinition of color scheme for dark theme */\n",
              "    --sklearn-color-text-on-default-background: var(--sg-text-color, var(--theme-code-foreground, var(--jp-content-font-color1, white)));\n",
              "    --sklearn-color-background: var(--sg-background-color, var(--theme-background, var(--jp-layout-color0, #111)));\n",
              "    --sklearn-color-border-box: var(--sg-text-color, var(--theme-code-foreground, var(--jp-content-font-color1, white)));\n",
              "    --sklearn-color-icon: #878787;\n",
              "  }\n",
              "}\n",
              "\n",
              "#sk-container-id-3 {\n",
              "  color: var(--sklearn-color-text);\n",
              "}\n",
              "\n",
              "#sk-container-id-3 pre {\n",
              "  padding: 0;\n",
              "}\n",
              "\n",
              "#sk-container-id-3 input.sk-hidden--visually {\n",
              "  border: 0;\n",
              "  clip: rect(1px 1px 1px 1px);\n",
              "  clip: rect(1px, 1px, 1px, 1px);\n",
              "  height: 1px;\n",
              "  margin: -1px;\n",
              "  overflow: hidden;\n",
              "  padding: 0;\n",
              "  position: absolute;\n",
              "  width: 1px;\n",
              "}\n",
              "\n",
              "#sk-container-id-3 div.sk-dashed-wrapped {\n",
              "  border: 1px dashed var(--sklearn-color-line);\n",
              "  margin: 0 0.4em 0.5em 0.4em;\n",
              "  box-sizing: border-box;\n",
              "  padding-bottom: 0.4em;\n",
              "  background-color: var(--sklearn-color-background);\n",
              "}\n",
              "\n",
              "#sk-container-id-3 div.sk-container {\n",
              "  /* jupyter's `normalize.less` sets `[hidden] { display: none; }`\n",
              "     but bootstrap.min.css set `[hidden] { display: none !important; }`\n",
              "     so we also need the `!important` here to be able to override the\n",
              "     default hidden behavior on the sphinx rendered scikit-learn.org.\n",
              "     See: https://github.com/scikit-learn/scikit-learn/issues/21755 */\n",
              "  display: inline-block !important;\n",
              "  position: relative;\n",
              "}\n",
              "\n",
              "#sk-container-id-3 div.sk-text-repr-fallback {\n",
              "  display: none;\n",
              "}\n",
              "\n",
              "div.sk-parallel-item,\n",
              "div.sk-serial,\n",
              "div.sk-item {\n",
              "  /* draw centered vertical line to link estimators */\n",
              "  background-image: linear-gradient(var(--sklearn-color-text-on-default-background), var(--sklearn-color-text-on-default-background));\n",
              "  background-size: 2px 100%;\n",
              "  background-repeat: no-repeat;\n",
              "  background-position: center center;\n",
              "}\n",
              "\n",
              "/* Parallel-specific style estimator block */\n",
              "\n",
              "#sk-container-id-3 div.sk-parallel-item::after {\n",
              "  content: \"\";\n",
              "  width: 100%;\n",
              "  border-bottom: 2px solid var(--sklearn-color-text-on-default-background);\n",
              "  flex-grow: 1;\n",
              "}\n",
              "\n",
              "#sk-container-id-3 div.sk-parallel {\n",
              "  display: flex;\n",
              "  align-items: stretch;\n",
              "  justify-content: center;\n",
              "  background-color: var(--sklearn-color-background);\n",
              "  position: relative;\n",
              "}\n",
              "\n",
              "#sk-container-id-3 div.sk-parallel-item {\n",
              "  display: flex;\n",
              "  flex-direction: column;\n",
              "}\n",
              "\n",
              "#sk-container-id-3 div.sk-parallel-item:first-child::after {\n",
              "  align-self: flex-end;\n",
              "  width: 50%;\n",
              "}\n",
              "\n",
              "#sk-container-id-3 div.sk-parallel-item:last-child::after {\n",
              "  align-self: flex-start;\n",
              "  width: 50%;\n",
              "}\n",
              "\n",
              "#sk-container-id-3 div.sk-parallel-item:only-child::after {\n",
              "  width: 0;\n",
              "}\n",
              "\n",
              "/* Serial-specific style estimator block */\n",
              "\n",
              "#sk-container-id-3 div.sk-serial {\n",
              "  display: flex;\n",
              "  flex-direction: column;\n",
              "  align-items: center;\n",
              "  background-color: var(--sklearn-color-background);\n",
              "  padding-right: 1em;\n",
              "  padding-left: 1em;\n",
              "}\n",
              "\n",
              "\n",
              "/* Toggleable style: style used for estimator/Pipeline/ColumnTransformer box that is\n",
              "clickable and can be expanded/collapsed.\n",
              "- Pipeline and ColumnTransformer use this feature and define the default style\n",
              "- Estimators will overwrite some part of the style using the `sk-estimator` class\n",
              "*/\n",
              "\n",
              "/* Pipeline and ColumnTransformer style (default) */\n",
              "\n",
              "#sk-container-id-3 div.sk-toggleable {\n",
              "  /* Default theme specific background. It is overwritten whether we have a\n",
              "  specific estimator or a Pipeline/ColumnTransformer */\n",
              "  background-color: var(--sklearn-color-background);\n",
              "}\n",
              "\n",
              "/* Toggleable label */\n",
              "#sk-container-id-3 label.sk-toggleable__label {\n",
              "  cursor: pointer;\n",
              "  display: flex;\n",
              "  width: 100%;\n",
              "  margin-bottom: 0;\n",
              "  padding: 0.5em;\n",
              "  box-sizing: border-box;\n",
              "  text-align: center;\n",
              "  align-items: start;\n",
              "  justify-content: space-between;\n",
              "  gap: 0.5em;\n",
              "}\n",
              "\n",
              "#sk-container-id-3 label.sk-toggleable__label .caption {\n",
              "  font-size: 0.6rem;\n",
              "  font-weight: lighter;\n",
              "  color: var(--sklearn-color-text-muted);\n",
              "}\n",
              "\n",
              "#sk-container-id-3 label.sk-toggleable__label-arrow:before {\n",
              "  /* Arrow on the left of the label */\n",
              "  content: \"▸\";\n",
              "  float: left;\n",
              "  margin-right: 0.25em;\n",
              "  color: var(--sklearn-color-icon);\n",
              "}\n",
              "\n",
              "#sk-container-id-3 label.sk-toggleable__label-arrow:hover:before {\n",
              "  color: var(--sklearn-color-text);\n",
              "}\n",
              "\n",
              "/* Toggleable content - dropdown */\n",
              "\n",
              "#sk-container-id-3 div.sk-toggleable__content {\n",
              "  max-height: 0;\n",
              "  max-width: 0;\n",
              "  overflow: hidden;\n",
              "  text-align: left;\n",
              "  /* unfitted */\n",
              "  background-color: var(--sklearn-color-unfitted-level-0);\n",
              "}\n",
              "\n",
              "#sk-container-id-3 div.sk-toggleable__content.fitted {\n",
              "  /* fitted */\n",
              "  background-color: var(--sklearn-color-fitted-level-0);\n",
              "}\n",
              "\n",
              "#sk-container-id-3 div.sk-toggleable__content pre {\n",
              "  margin: 0.2em;\n",
              "  border-radius: 0.25em;\n",
              "  color: var(--sklearn-color-text);\n",
              "  /* unfitted */\n",
              "  background-color: var(--sklearn-color-unfitted-level-0);\n",
              "}\n",
              "\n",
              "#sk-container-id-3 div.sk-toggleable__content.fitted pre {\n",
              "  /* unfitted */\n",
              "  background-color: var(--sklearn-color-fitted-level-0);\n",
              "}\n",
              "\n",
              "#sk-container-id-3 input.sk-toggleable__control:checked~div.sk-toggleable__content {\n",
              "  /* Expand drop-down */\n",
              "  max-height: 200px;\n",
              "  max-width: 100%;\n",
              "  overflow: auto;\n",
              "}\n",
              "\n",
              "#sk-container-id-3 input.sk-toggleable__control:checked~label.sk-toggleable__label-arrow:before {\n",
              "  content: \"▾\";\n",
              "}\n",
              "\n",
              "/* Pipeline/ColumnTransformer-specific style */\n",
              "\n",
              "#sk-container-id-3 div.sk-label input.sk-toggleable__control:checked~label.sk-toggleable__label {\n",
              "  color: var(--sklearn-color-text);\n",
              "  background-color: var(--sklearn-color-unfitted-level-2);\n",
              "}\n",
              "\n",
              "#sk-container-id-3 div.sk-label.fitted input.sk-toggleable__control:checked~label.sk-toggleable__label {\n",
              "  background-color: var(--sklearn-color-fitted-level-2);\n",
              "}\n",
              "\n",
              "/* Estimator-specific style */\n",
              "\n",
              "/* Colorize estimator box */\n",
              "#sk-container-id-3 div.sk-estimator input.sk-toggleable__control:checked~label.sk-toggleable__label {\n",
              "  /* unfitted */\n",
              "  background-color: var(--sklearn-color-unfitted-level-2);\n",
              "}\n",
              "\n",
              "#sk-container-id-3 div.sk-estimator.fitted input.sk-toggleable__control:checked~label.sk-toggleable__label {\n",
              "  /* fitted */\n",
              "  background-color: var(--sklearn-color-fitted-level-2);\n",
              "}\n",
              "\n",
              "#sk-container-id-3 div.sk-label label.sk-toggleable__label,\n",
              "#sk-container-id-3 div.sk-label label {\n",
              "  /* The background is the default theme color */\n",
              "  color: var(--sklearn-color-text-on-default-background);\n",
              "}\n",
              "\n",
              "/* On hover, darken the color of the background */\n",
              "#sk-container-id-3 div.sk-label:hover label.sk-toggleable__label {\n",
              "  color: var(--sklearn-color-text);\n",
              "  background-color: var(--sklearn-color-unfitted-level-2);\n",
              "}\n",
              "\n",
              "/* Label box, darken color on hover, fitted */\n",
              "#sk-container-id-3 div.sk-label.fitted:hover label.sk-toggleable__label.fitted {\n",
              "  color: var(--sklearn-color-text);\n",
              "  background-color: var(--sklearn-color-fitted-level-2);\n",
              "}\n",
              "\n",
              "/* Estimator label */\n",
              "\n",
              "#sk-container-id-3 div.sk-label label {\n",
              "  font-family: monospace;\n",
              "  font-weight: bold;\n",
              "  display: inline-block;\n",
              "  line-height: 1.2em;\n",
              "}\n",
              "\n",
              "#sk-container-id-3 div.sk-label-container {\n",
              "  text-align: center;\n",
              "}\n",
              "\n",
              "/* Estimator-specific */\n",
              "#sk-container-id-3 div.sk-estimator {\n",
              "  font-family: monospace;\n",
              "  border: 1px dotted var(--sklearn-color-border-box);\n",
              "  border-radius: 0.25em;\n",
              "  box-sizing: border-box;\n",
              "  margin-bottom: 0.5em;\n",
              "  /* unfitted */\n",
              "  background-color: var(--sklearn-color-unfitted-level-0);\n",
              "}\n",
              "\n",
              "#sk-container-id-3 div.sk-estimator.fitted {\n",
              "  /* fitted */\n",
              "  background-color: var(--sklearn-color-fitted-level-0);\n",
              "}\n",
              "\n",
              "/* on hover */\n",
              "#sk-container-id-3 div.sk-estimator:hover {\n",
              "  /* unfitted */\n",
              "  background-color: var(--sklearn-color-unfitted-level-2);\n",
              "}\n",
              "\n",
              "#sk-container-id-3 div.sk-estimator.fitted:hover {\n",
              "  /* fitted */\n",
              "  background-color: var(--sklearn-color-fitted-level-2);\n",
              "}\n",
              "\n",
              "/* Specification for estimator info (e.g. \"i\" and \"?\") */\n",
              "\n",
              "/* Common style for \"i\" and \"?\" */\n",
              "\n",
              ".sk-estimator-doc-link,\n",
              "a:link.sk-estimator-doc-link,\n",
              "a:visited.sk-estimator-doc-link {\n",
              "  float: right;\n",
              "  font-size: smaller;\n",
              "  line-height: 1em;\n",
              "  font-family: monospace;\n",
              "  background-color: var(--sklearn-color-background);\n",
              "  border-radius: 1em;\n",
              "  height: 1em;\n",
              "  width: 1em;\n",
              "  text-decoration: none !important;\n",
              "  margin-left: 0.5em;\n",
              "  text-align: center;\n",
              "  /* unfitted */\n",
              "  border: var(--sklearn-color-unfitted-level-1) 1pt solid;\n",
              "  color: var(--sklearn-color-unfitted-level-1);\n",
              "}\n",
              "\n",
              ".sk-estimator-doc-link.fitted,\n",
              "a:link.sk-estimator-doc-link.fitted,\n",
              "a:visited.sk-estimator-doc-link.fitted {\n",
              "  /* fitted */\n",
              "  border: var(--sklearn-color-fitted-level-1) 1pt solid;\n",
              "  color: var(--sklearn-color-fitted-level-1);\n",
              "}\n",
              "\n",
              "/* On hover */\n",
              "div.sk-estimator:hover .sk-estimator-doc-link:hover,\n",
              ".sk-estimator-doc-link:hover,\n",
              "div.sk-label-container:hover .sk-estimator-doc-link:hover,\n",
              ".sk-estimator-doc-link:hover {\n",
              "  /* unfitted */\n",
              "  background-color: var(--sklearn-color-unfitted-level-3);\n",
              "  color: var(--sklearn-color-background);\n",
              "  text-decoration: none;\n",
              "}\n",
              "\n",
              "div.sk-estimator.fitted:hover .sk-estimator-doc-link.fitted:hover,\n",
              ".sk-estimator-doc-link.fitted:hover,\n",
              "div.sk-label-container:hover .sk-estimator-doc-link.fitted:hover,\n",
              ".sk-estimator-doc-link.fitted:hover {\n",
              "  /* fitted */\n",
              "  background-color: var(--sklearn-color-fitted-level-3);\n",
              "  color: var(--sklearn-color-background);\n",
              "  text-decoration: none;\n",
              "}\n",
              "\n",
              "/* Span, style for the box shown on hovering the info icon */\n",
              ".sk-estimator-doc-link span {\n",
              "  display: none;\n",
              "  z-index: 9999;\n",
              "  position: relative;\n",
              "  font-weight: normal;\n",
              "  right: .2ex;\n",
              "  padding: .5ex;\n",
              "  margin: .5ex;\n",
              "  width: min-content;\n",
              "  min-width: 20ex;\n",
              "  max-width: 50ex;\n",
              "  color: var(--sklearn-color-text);\n",
              "  box-shadow: 2pt 2pt 4pt #999;\n",
              "  /* unfitted */\n",
              "  background: var(--sklearn-color-unfitted-level-0);\n",
              "  border: .5pt solid var(--sklearn-color-unfitted-level-3);\n",
              "}\n",
              "\n",
              ".sk-estimator-doc-link.fitted span {\n",
              "  /* fitted */\n",
              "  background: var(--sklearn-color-fitted-level-0);\n",
              "  border: var(--sklearn-color-fitted-level-3);\n",
              "}\n",
              "\n",
              ".sk-estimator-doc-link:hover span {\n",
              "  display: block;\n",
              "}\n",
              "\n",
              "/* \"?\"-specific style due to the `<a>` HTML tag */\n",
              "\n",
              "#sk-container-id-3 a.estimator_doc_link {\n",
              "  float: right;\n",
              "  font-size: 1rem;\n",
              "  line-height: 1em;\n",
              "  font-family: monospace;\n",
              "  background-color: var(--sklearn-color-background);\n",
              "  border-radius: 1rem;\n",
              "  height: 1rem;\n",
              "  width: 1rem;\n",
              "  text-decoration: none;\n",
              "  /* unfitted */\n",
              "  color: var(--sklearn-color-unfitted-level-1);\n",
              "  border: var(--sklearn-color-unfitted-level-1) 1pt solid;\n",
              "}\n",
              "\n",
              "#sk-container-id-3 a.estimator_doc_link.fitted {\n",
              "  /* fitted */\n",
              "  border: var(--sklearn-color-fitted-level-1) 1pt solid;\n",
              "  color: var(--sklearn-color-fitted-level-1);\n",
              "}\n",
              "\n",
              "/* On hover */\n",
              "#sk-container-id-3 a.estimator_doc_link:hover {\n",
              "  /* unfitted */\n",
              "  background-color: var(--sklearn-color-unfitted-level-3);\n",
              "  color: var(--sklearn-color-background);\n",
              "  text-decoration: none;\n",
              "}\n",
              "\n",
              "#sk-container-id-3 a.estimator_doc_link.fitted:hover {\n",
              "  /* fitted */\n",
              "  background-color: var(--sklearn-color-fitted-level-3);\n",
              "}\n",
              "</style><div id=\"sk-container-id-3\" class=\"sk-top-container\"><div class=\"sk-text-repr-fallback\"><pre>RandomForestClassifier(random_state=42)</pre><b>In a Jupyter environment, please rerun this cell to show the HTML representation or trust the notebook. <br />On GitHub, the HTML representation is unable to render, please try loading this page with nbviewer.org.</b></div><div class=\"sk-container\" hidden><div class=\"sk-item\"><div class=\"sk-estimator fitted sk-toggleable\"><input class=\"sk-toggleable__control sk-hidden--visually\" id=\"sk-estimator-id-3\" type=\"checkbox\" checked><label for=\"sk-estimator-id-3\" class=\"sk-toggleable__label fitted sk-toggleable__label-arrow\"><div><div>RandomForestClassifier</div></div><div><a class=\"sk-estimator-doc-link fitted\" rel=\"noreferrer\" target=\"_blank\" href=\"https://scikit-learn.org/1.6/modules/generated/sklearn.ensemble.RandomForestClassifier.html\">?<span>Documentation for RandomForestClassifier</span></a><span class=\"sk-estimator-doc-link fitted\">i<span>Fitted</span></span></div></label><div class=\"sk-toggleable__content fitted\"><pre>RandomForestClassifier(random_state=42)</pre></div> </div></div></div></div>"
            ]
          },
          "metadata": {},
          "execution_count": 209
        }
      ]
    },
    {
      "cell_type": "code",
      "source": [
        "y_pred = rf.predict(x_test)"
      ],
      "metadata": {
        "id": "6v-qUKg0BofZ"
      },
      "execution_count": 210,
      "outputs": []
    },
    {
      "cell_type": "code",
      "source": [
        "print(\"Acurácia no treino\", rf.score(x_train, y_train))\n",
        "accuracy = accuracy_score(y_test, y_pred) #compara os valores reais com os previstos\n",
        "print(f\"Acurácia do modelo:, {accuracy:.2f}\")"
      ],
      "metadata": {
        "colab": {
          "base_uri": "https://localhost:8080/"
        },
        "id": "xHUEJRhXCt10",
        "outputId": "e57beacb-f997-4dc9-b61a-96bd1eddbc4e"
      },
      "execution_count": 211,
      "outputs": [
        {
          "output_type": "stream",
          "name": "stdout",
          "text": [
            "Acurácia no treino 1.0\n",
            "Acurácia do modelo:, 0.97\n"
          ]
        }
      ]
    },
    {
      "cell_type": "code",
      "metadata": {
        "colab": {
          "base_uri": "https://localhost:8080/"
        },
        "id": "c6137e63",
        "outputId": "05f4a801-950d-4acc-d892-47d2884bfd60",
        "collapsed": true
      },
      "source": [
        "print(\"\\nRelatorio de Classificação:\")\n",
        "print(classification_report(y_test, y_pred))"
      ],
      "execution_count": 212,
      "outputs": [
        {
          "output_type": "stream",
          "name": "stdout",
          "text": [
            "\n",
            "Relatorio de Classificação:\n",
            "              precision    recall  f1-score   support\n",
            "\n",
            "           0       0.95      1.00      0.98        20\n",
            "           1       1.00      0.89      0.94         9\n",
            "\n",
            "    accuracy                           0.97        29\n",
            "   macro avg       0.98      0.94      0.96        29\n",
            "weighted avg       0.97      0.97      0.96        29\n",
            "\n"
          ]
        }
      ]
    },
    {
      "cell_type": "code",
      "source": [
        "cm = confusion_matrix(y_test, y_pred)\n",
        "\n",
        "plt.figure(figsize=(6, 4))\n",
        "sns.heatmap(cm, annot=True, fmt='d', cmap='Blues',\n",
        "            xticklabels=['Não Curtiu', 'Curtiu'],\n",
        "            yticklabels=['Não Curtiu', 'Curtiu'])\n",
        "plt.xlabel('Previsto')\n",
        "plt.ylabel('Real')\n",
        "plt.title('Matriz de Confusão - Random Forest')\n",
        "plt.show()"
      ],
      "metadata": {
        "colab": {
          "base_uri": "https://localhost:8080/",
          "height": 410
        },
        "id": "5GV63uZfDLfS",
        "outputId": "f594c446-596a-4c0c-b854-274a253a7e55"
      },
      "execution_count": 213,
      "outputs": [
        {
          "output_type": "display_data",
          "data": {
            "text/plain": [
              "<Figure size 600x400 with 2 Axes>"
            ],
            "image/png": "[encoded data removed]"
          },
          "metadata": {}
        }
      ]
    },
    {
      "cell_type": "markdown",
      "source": [
        "(0,0) = 20 → acertou 20 vezes ao prever a classe 0 corretamente.\n",
        "\n",
        "(0,1) = 0 →  não cometeu erros ao prever 1 quando o valor real era 0.\n",
        "\n",
        "(1,0) = 1 → errou 1 vez, prevendo 0 quando o valor real era 1.\n",
        "\n",
        "(1,1) = 8 → acertou 8 vezes ao prever a classe 1 corretamente.\n",
        "\n",
        "\n"
      ],
      "metadata": {
        "id": "EG3vvl6B0uDp"
      }
    },
    {
      "cell_type": "code",
      "source": [
        "importances = rf.feature_importances_ #serve pra dizer as caracteristicas mais importantes\n",
        "feature_importance_df = pd.DataFrame({'feature': x.columns, 'importance': importances}).sort_values(by='importance', ascending=False)"
      ],
      "metadata": {
        "id": "AAdgZokRDo6V"
      },
      "execution_count": 214,
      "outputs": []
    },
    {
      "cell_type": "code",
      "source": [
        "print(\"Variáveis mais importantes:\")\n",
        "print(feature_importance_df.head(10))"
      ],
      "metadata": {
        "colab": {
          "base_uri": "https://localhost:8080/"
        },
        "id": "c8JWB0nBFEH2",
        "outputId": "d4aa031a-c7c1-4ed1-d202-76e6b6c837fe"
      },
      "execution_count": 215,
      "outputs": [
        {
          "output_type": "stream",
          "name": "stdout",
          "text": [
            "Variáveis mais importantes:\n",
            "                  feature  importance\n",
            "1        music_popularity    0.280779\n",
            "0             duration_ms    0.090070\n",
            "3               followers    0.059537\n",
            "2       artist_popularity    0.049349\n",
            "48                'rock']    0.043769\n",
            "82            ['nu metal'    0.033518\n",
            "8      'alternative rock'    0.031696\n",
            "87         ['post-grunge'    0.031072\n",
            "7    'alternative metal']    0.030184\n",
            "6     'alternative metal'    0.021900\n"
          ]
        }
      ]
    },
    {
      "cell_type": "markdown",
      "source": [
        "Salvar"
      ],
      "metadata": {
        "id": "3dlEN4g2HSWA"
      }
    },
    {
      "cell_type": "code",
      "source": [
        "import pickle"
      ],
      "metadata": {
        "id": "9pLcEYbWSvvc"
      },
      "execution_count": 216,
      "outputs": []
    },
    {
      "cell_type": "code",
      "source": [
        "with open ('modelo_random_forest.pkl', 'wb') as file:\n",
        "    pickle.dump(rf, file)\n",
        "from google.colab import files\n",
        "files.download('modelo_random_forest.pkl')"
      ],
      "metadata": {
        "id": "v7yiQHwqwtNJ"
      },
      "execution_count": 217,
      "outputs": []
    },
    {
      "cell_type": "code",
      "source": [
        "with open ('scaler.pkl', 'wb') as file:\n",
        "    pickle.dump(scaler, file)\n",
        "from google.colab import files\n",
        "files.download('scaler.pkl')"
      ],
      "metadata": {
        "id": "VS2i4mvNxKCz"
      },
      "execution_count": 218,
      "outputs": []
    },
    {
      "cell_type": "code",
      "source": [
        "with open ('colunas_usadas_no_treino.pkl', 'wb') as file:\n",
        "    pickle.dump(colunas_usadas_no_treino, file)\n",
        "from google.colab import files\n",
        "files.download('colunas_usadas_no_treino.pkl')"
      ],
      "metadata": {
        "id": "Ass-BsfHxv3f"
      },
      "execution_count": 219,
      "outputs": []
    }
  ],
  "metadata": {
    "colab": {
      "provenance": [],
      "include_colab_link": true
    },
    "kernelspec": {
      "display_name": "Python 3",
      "name": "python3"
    }
  },
  "nbformat": 4,
  "nbformat_minor": 0
}